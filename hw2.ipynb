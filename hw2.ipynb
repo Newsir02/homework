{
 "cells": [
  {
   "cell_type": "markdown",
   "metadata": {},
   "source": [
    "## algorithm design and anlysis-2025 spring  homework 2\n",
    "**Deadline**：2025.5.14\n",
    "\n",
    "**name**:\n",
    "\n",
    "\n",
    "note：\n",
    "---\n",
    "1. 带有\\*的题目，申请免上课的同学，必须完成，其他同学选作；\n",
    "2. 请独立完成，如求助了他人或者大模型，请著明，并且不可省略算法分析部分；\n",
    "4. 如若作答有雷同，全部取消成绩；\n",
    "3. 需要书面作答的题目，可以通过引用图片的形式添加，但是注意上传项目时包含所引用的图片的源文件；\n",
    "4. $log_n$ 默认表示$log_2{n}$;"
   ]
  },
  {
   "cell_type": "markdown",
   "metadata": {},
   "source": [
    "## 问题 1  \n",
    "\n",
    "> 给定一个已排序的链表的头 `head` ， *删除所有重复的元素，使每个元素只出现一次* 。返回 *已排序的链表* 。链表的类如下所示：\n",
    "\n",
    "```python\n",
    "class NodeList:\n",
    "    def __init__(self, val=None, right=None):\n",
    "        self.val   = val\n",
    "        self.right = right\n",
    "```\n",
    "\n",
    "输入是一个数组，你首先需要将数组转化为链表，然后删除链表中的重复元素，再遍历链表元素，以一个数组的形式返回。请设计一个算法解决上述任务，分析算法设计思路，计算时间复杂度, 并基于python编程实现。\n",
    "\n",
    "e.g.  输入：head=[1, 1, 2, 3, 3]   输出：[1, 2, 3]\n",
    "\n",
    "![image-20240502110020439](./fig/hw2q1.png)\n",
    "\n"
   ]
  },
  {
   "cell_type": "markdown",
   "metadata": {},
   "source": [
    "idea："
   ]
  },
  {
   "cell_type": "markdown",
   "metadata": {},
   "source": [
    "由于链表已经是排序的，重复元素必定是相邻的。因此，我们只需要遍历链表，一次检查当前节点与下一个节点的值。如果当前节点的值和下一个节点的值相同，则跳过下一个节点，指向下下一个节点。通过修改节点的 right 指针，将重复元素从链表中移除。我们只需要保持每个值的第一个出现，并将 right 指针指向下一个不同的节点。修改完链表后，返回处理后的链表头。我们只需要遍历一次链表，检查每个节点与下一个节点是否相同，因此时间复杂度是 O(n)"
   ]
  },
  {
   "cell_type": "code",
   "execution_count": 1,
   "metadata": {},
   "outputs": [
    {
     "name": "stdout",
     "output_type": "stream",
     "text": [
      "[1, 2, 3]\n"
     ]
    }
   ],
   "source": [
    "class NodeList:\n",
    "    def __init__(self, val=None, right=None):\n",
    "        self.val = val\n",
    "        self.right = right\n",
    "\n",
    "def delete_duplicates(head: NodeList) -> NodeList:\n",
    "    # 如果链表为空或只有一个节点，直接返回\n",
    "    if not head or not head.right:\n",
    "        return head\n",
    "    \n",
    "    current = head\n",
    "    \n",
    "    # 遍历链表，删除重复元素\n",
    "    while current and current.right:\n",
    "        if current.val == current.right.val:\n",
    "            # 跳过重复的节点\n",
    "            current.right = current.right.right\n",
    "        else:\n",
    "            # 移动到下一个节点\n",
    "            current = current.right\n",
    "    \n",
    "    return head\n",
    "\n",
    "def convert_array_to_linked_list(arr):\n",
    "    # 将数组转换为链表\n",
    "    if not arr:\n",
    "        return None\n",
    "    head = NodeList(arr[0])\n",
    "    current = head\n",
    "    for val in arr[1:]:\n",
    "        current.right = NodeList(val)\n",
    "        current = current.right\n",
    "    return head\n",
    "\n",
    "def convert_linked_list_to_array(head):\n",
    "    # 将链表转换为数组\n",
    "    arr = []\n",
    "    current = head\n",
    "    while current:\n",
    "        arr.append(current.val)\n",
    "        current = current.right\n",
    "    return arr\n",
    "\n",
    "\n",
    "head=[1, 1, 2, 3, 3]\n",
    "print(convert_linked_list_to_array(delete_duplicates(convert_array_to_linked_list(head))))"
   ]
  },
  {
   "cell_type": "markdown",
   "metadata": {},
   "source": [
    "## 问题 2  \n",
    "\n",
    "> 下面是一个经典的算法问题：\n",
    ">\n",
    "> - 给定包含n个整数的一个整数数组 `nums` 和一个整数目标值 `target`，请你在该数组中找出 **和为目标值** *`target`* 的那 **两个** 整数，并返回它们的**数组下标**。假设每种输入只会对应一个答案。但是，数组中同一个元素在答案里不能重复出现。你可以按任意顺序返回答案。\n",
    ">\n",
    "> 由于要多次查找数组中元素的位置，为了提高查询效率可以使用哈希表来存储数组中的数据，在哈希表中查询一个元素的复杂度为O(1)。 已知python中的字典是使用哈希表实现的，即使用`dict[key]`查询对应的value时间复杂度为O(1), python提供了查询字典是否包含某个key的功能：`key in dict`，时间复杂度也是O(1)\n",
    "\n",
    "请根据上面信息，设计一个时间复杂度为O(n) 的算法，解决上述算法问题\n",
    "\n",
    "e.g.   \n",
    "\n",
    "输入：nums=[2,7,11,15], target=9， 输出：[0，1]\n",
    "\n",
    "输入：nums=[3,2,4], target=6, 输出：[1,2]\n",
    "\n",
    "输入：nums=[3,3], target=6,  输出：[0,1]\n"
   ]
  },
  {
   "cell_type": "markdown",
   "metadata": {},
   "source": [
    "用一个哈希表（字典）来存储数组中的元素及其对应的下标，对于数组中的每个元素 num，我们可以通过 target - num 计算出目标值与当前元素的差值 complement，并检查这个差值是否已经出现在哈希表中。如果在哈希表中找到了差值，说明当前元素和差值一起构成了目标值，返回它们的下标。如果没有找到，我们将当前元素及其下标添加到哈希表中，一旦找到符合条件的两个元素，立即返回它们的下标。遍历一次数组，时间复杂度为 O(n)，每次在哈希表中查询或插入操作的时间复杂度是 O(1)，因此总时间复杂度为 O(n)。"
   ]
  },
  {
   "cell_type": "code",
   "execution_count": 2,
   "metadata": {},
   "outputs": [
    {
     "name": "stdout",
     "output_type": "stream",
     "text": [
      "[0, 1]\n"
     ]
    }
   ],
   "source": [
    "def two_sum(nums, target):\n",
    "    # 创建一个空字典用于存储元素及其下标\n",
    "    num_map = {}\n",
    "    \n",
    "    # 遍历数组\n",
    "    for index, num in enumerate(nums):\n",
    "        complement = target - num  # 计算与当前元素配对的数值\n",
    "        \n",
    "        # 检查差值是否在字典中\n",
    "        if complement in num_map:\n",
    "            return [num_map[complement], index]\n",
    "        \n",
    "        # 如果没有找到，添加当前元素和它的下标到字典中\n",
    "        num_map[num] = index\n",
    "    \n",
    "    # 如果没有找到任何符合条件的配对（根据题目保证存在解，所以这里不需要返回其他值）\n",
    "    return []\n",
    "nums=[2,7,11,15]\n",
    "target=9\n",
    "print(two_sum(nums, target))"
   ]
  },
  {
   "cell_type": "markdown",
   "metadata": {},
   "source": [
    "## 问题 3:   \n",
    "\n",
    "> 栈是一种常用的数据结构，编译器中通常使用栈来实现表达式求值。\n",
    ">\n",
    "> 以表达式 $3+5 \\times 8-6$​ 为例。编译器使用两个栈来完成运算，即一个栈保持操作数，另一个栈保存运算符。\n",
    ">\n",
    "> 1. 从左向右遍历表达式，遇到数字就压入操作数栈；\n",
    ">\n",
    "> 2. 遇到运算符，就与运算符栈的栈顶元素进行比较。如果比运算符栈顶元素的优先级高，就将当前运算符压入栈；如果比运算符栈顶元素的优先级低或者相同，从运算符栈中取栈顶运算符，从操作数栈的栈顶取 2 个操作数，然后进行计算，再把计算完的结果压入操作数栈，继续比较。\n",
    ">\n",
    "> 下图是 $3+5 \\times 8-6$  这个表达式的计算过程：\n",
    "\n",
    "![figure](./fig/hw2q3.png)\n",
    "\n",
    "根据上述原理，请设计一个算法完成表达式的运算，当输入为表达式字符串，返回对应的计算结果。分析算法设计思路，计算时间复杂度，并基于python编程实现\n",
    "\n",
    "**note：**\n",
    "\n",
    "1. 假设输入的表达式只会出现加（“+”），减 “-”， 乘“*”，除 “/” 四个运算符, 表达式中只会出现正整数\n",
    "2. python中` str.isdigit()`函数可以判断字符串str是否为数字，\n",
    "\n",
    "\n",
    "\n",
    "e.g. :\n",
    "---\n",
    "\n",
    "1. 输入：“$3+5 * 8 -6$”   输出：37\n",
    "\n",
    "2. 输入：“$34+13*9 + 44-12/3$”  输出：191"
   ]
  },
  {
   "cell_type": "markdown",
   "metadata": {},
   "source": [
    "idea："
   ]
  },
  {
   "cell_type": "markdown",
   "metadata": {},
   "source": [
    "用一个栈 nums 存放操作数，用另一个栈 ops 存放运算符。扫描表达式时，遇到多位数字就读完整数并压入 nums；遇到运算符 op 时，如果 ops 为空或其栈顶运算符优先级低于 op，直接将 op 入 ops；否则不断从 ops 弹出运算符并从 nums 弹出两个操作数做运算，将结果压回 nums，直到 ops 为空或栈顶运算符优先级低于 op，最后再将 op 入栈。字符串扫描完毕后，将 ops 中剩余的运算符依次弹出、运算直到 ops 为空，nums 中即剩下最终结果。扫描一遍字符串并对每个字符做 O(1) 的栈操作，总体为 O(n)"
   ]
  },
  {
   "cell_type": "code",
   "execution_count": 5,
   "metadata": {},
   "outputs": [
    {
     "name": "stdout",
     "output_type": "stream",
     "text": [
      "3+5*8-6的结果是 37\n"
     ]
    }
   ],
   "source": [
    "def evaluate_expression(expr: str) -> int:\n",
    "    # 两个栈：nums 存数字，ops 存运算符\n",
    "    nums, ops = [], []\n",
    "    \n",
    "    # 定义运算符优先级\n",
    "    def precedence(op):\n",
    "        return 2 if op in \"*/\" else 1\n",
    "    \n",
    "    # 执行一次运算：从 nums 弹出 b,a 和从 ops 弹出 op，计算 a op b\n",
    "    def apply_op():\n",
    "        b = nums.pop()\n",
    "        a = nums.pop()\n",
    "        op = ops.pop()\n",
    "        if op == '+':\n",
    "            nums.append(a + b)\n",
    "        elif op == '-':\n",
    "            nums.append(a - b)\n",
    "        elif op == '*':\n",
    "            nums.append(a * b)\n",
    "        elif op == '/':\n",
    "            nums.append(a // b)  # 题目均为正整数，使用整除\n",
    "    \n",
    "    i, n = 0, len(expr)\n",
    "    while i < n:\n",
    "        ch = expr[i]\n",
    "        if ch.isspace():\n",
    "            i += 1\n",
    "            continue\n",
    "        if ch.isdigit():\n",
    "            # 读一个多位数字\n",
    "            val = 0\n",
    "            while i < n and expr[i].isdigit():\n",
    "                val = val * 10 + int(expr[i])\n",
    "                i += 1\n",
    "            nums.append(val)\n",
    "            continue\n",
    "        # ch 是运算符\n",
    "        # 比较优先级：若栈顶 ops 优先级 >= 当前 op，则先做运算\n",
    "        while ops and precedence(ops[-1]) >= precedence(ch):\n",
    "            apply_op()\n",
    "        ops.append(ch)\n",
    "        i += 1\n",
    "    \n",
    "    # 扫描结束后将剩余运算符全部计算完\n",
    "    while ops:\n",
    "        apply_op()\n",
    "    \n",
    "    return nums[-1]\n",
    "\n",
    "str = \"3+5*8-6\"\n",
    "print(\"3+5*8-6的结果是\",evaluate_expression(str))"
   ]
  },
  {
   "cell_type": "markdown",
   "metadata": {},
   "source": [
    "## 问题 4:  \n",
    "\n",
    "> 星球碰撞问题：现有n个星球，在同一条直线上运行，如数组A所示，元素的绝对值表示星球的质量，负数表示星球自右向左运动，正数表示星球自左向右运动，当两个星球相撞的时候，质量小的会消失，大的保持不变，**质量相同的两个星球碰撞后自右向左运动的星球消失，自左向右的星球保持不变**，假设所有星球的速度大小相同。\n",
    ">\n",
    "> $ A=[23,-8, 9, -3, -7, 9, -23, 22] $\n",
    "\n",
    "请设计一个算法模拟星球的运行情况，输出最终的星球存续情况（输出一个数组），分析算法设计思路，计算时间复杂度，并基于python编程实现。\n",
    "\n",
    "e.g.\n",
    "---\n",
    "1.  输入： A=[-3,-6,2,8, 5,-8,9,-2,1]， 输出：[-3, -6, 2, 8, 9, 1]\n",
    "\n",
    "2. 输入：A=[23,-8, 9, -3, -7, 9, -23, 22], 输出：[23, 22]\n",
    "\n"
   ]
  },
  {
   "cell_type": "markdown",
   "metadata": {},
   "source": [
    "如果当前星球是向右运动的星球（正数），直接将它加入栈中，如果当前星球是向左运动的星球（负数），需要判断栈顶的星球：1. 如果栈顶星球的质量较小，则栈顶星球消失。2. 如果栈顶星球质量相同，则两个星球相撞，向左的星球消失。3. 如果栈顶星球的质量较大，则当前星球消失。每个星球最多会与栈中的星球碰撞一次，因此算法的时间复杂度是 O(n)。"
   ]
  },
  {
   "cell_type": "code",
   "execution_count": 6,
   "metadata": {},
   "outputs": [
    {
     "name": "stdout",
     "output_type": "stream",
     "text": [
      "[-3, -6, 2, 9, 1]\n"
     ]
    }
   ],
   "source": [
    "def planet_collision(A):\n",
    "    stack = []  # 使用栈来模拟星球的碰撞过程\n",
    "    \n",
    "    for planet in A:\n",
    "        # 如果当前星球是向右运动的星球，直接加入栈\n",
    "        if planet > 0:\n",
    "            stack.append(planet)\n",
    "        else:\n",
    "            # 当前星球是向左运动的星球，处理可能的碰撞\n",
    "            while stack and stack[-1] > 0:  # 栈顶是向右运动的星球\n",
    "                if stack[-1] < abs(planet):  # 当前星球质量较大，栈顶星球消失\n",
    "                    stack.pop()\n",
    "                elif stack[-1] == abs(planet):  # 质量相同，向左的星球消失\n",
    "                    stack.pop()\n",
    "                    break\n",
    "                else:  # 当前星球质量较小，消失\n",
    "                    break\n",
    "            else:\n",
    "                # 如果栈为空或栈顶星球是向左的星球，当前星球加入栈\n",
    "                stack.append(planet)\n",
    "    \n",
    "    return stack\n",
    "\n",
    "A=[-3,-6,2,8, 5,-8,9,-2,1]\n",
    "print(planet_collision(A))"
   ]
  },
  {
   "cell_type": "markdown",
   "metadata": {},
   "source": [
    "## 问题 5 \n",
    "\n",
    "> 给定一个无序数组nums=[9,-3,-10,0,9,7,33]，请建立一个二叉搜索树存储数组中的所有元素，之后删除二叉树中的元素“0”，再使用中序遍历输出二叉搜索树中的所有元素。\n",
    "\n",
    "使用python编程完成上述任务，并计算时间复杂度\n"
   ]
  },
  {
   "cell_type": "markdown",
   "metadata": {},
   "source": [
    "插入一个元素的时间复杂度是 O(log n)，因此插入 n 个元素的时间复杂度是 O(n log n)。删除操作的时间复杂度是 O(log n)，最坏情况下时间复杂度是 O(n)，当树退化为链式结构时。中序遍历的时间复杂度是 O(n)，因为每个节点都被访问一次。整体时间复杂度为 O(n log n)，最坏情况下为 O(n)。"
   ]
  },
  {
   "cell_type": "code",
   "execution_count": 7,
   "metadata": {},
   "outputs": [
    {
     "name": "stdout",
     "output_type": "stream",
     "text": [
      "[-10, -3, 0, 7, 9, 33]\n"
     ]
    }
   ],
   "source": [
    "class TreeNode:\n",
    "    def __init__(self, val=0, left=None, right=None):\n",
    "        self.val = val\n",
    "        self.left = left\n",
    "        self.right = right\n",
    "\n",
    "class BinarySearchTree:\n",
    "    def __init__(self):\n",
    "        self.root = None\n",
    "\n",
    "    # 插入节点\n",
    "    def insert(self, root, val):\n",
    "        if root is None:\n",
    "            return TreeNode(val)\n",
    "        if val < root.val:\n",
    "            root.left = self.insert(root.left, val)\n",
    "        else:\n",
    "            root.right = self.insert(root.right, val)\n",
    "        return root\n",
    "\n",
    "    # 删除节点\n",
    "    def delete(self, root, val):\n",
    "        if root is None:\n",
    "            return root\n",
    "        if val < root.val:\n",
    "            root.left = self.delete(root.left, val)\n",
    "        elif val > root.val:\n",
    "            root.right = self.delete(root.right, val)\n",
    "        else:  # 找到了要删除的节点\n",
    "            # 情况 1: 叶子节点\n",
    "            if root.left is None and root.right is None:\n",
    "                return None\n",
    "            # 情况 2: 只有一个子节点\n",
    "            elif root.left is None:\n",
    "                return root.right\n",
    "            elif root.right is None:\n",
    "                return root.left\n",
    "            # 情况 3: 有两个子节点\n",
    "            else:\n",
    "                # 找到右子树的最小值（中序后继）\n",
    "                min_node = self._min_value_node(root.right)\n",
    "                root.val = min_node.val\n",
    "                root.right = self.delete(root.right, min_node.val)\n",
    "        return root\n",
    "\n",
    "    # 寻找最小节点\n",
    "    def _min_value_node(self, node):\n",
    "        current = node\n",
    "        while current.left is not None:\n",
    "            current = current.left\n",
    "        return current\n",
    "\n",
    "    # 中序遍历\n",
    "    def inorder(self, root):\n",
    "        return self.inorder(root.left) + [root.val] + self.inorder(root.right) if root else []\n",
    "\n",
    "    # 插入数组中的所有元素\n",
    "    def insert_values(self, values):\n",
    "        for val in values:\n",
    "            self.root = self.insert(self.root, val)\n",
    "\n",
    "# 主函数\n",
    "def bst_operations(nums, delete_value):\n",
    "    bst = BinarySearchTree()\n",
    "\n",
    "    # 构建二叉搜索树\n",
    "    bst.insert_values(nums)\n",
    "\n",
    "    # 删除元素\n",
    "    bst.root = bst.delete(bst.root, delete_value)\n",
    "\n",
    "    # 中序遍历输出二叉搜索树中的元素\n",
    "    return bst.inorder(bst.root)\n",
    "\n",
    "\n",
    "nums=[9,-3,-10,0,9,7,33]\n",
    "print(bst_operations(nums, 9))\n"
   ]
  },
  {
   "cell_type": "markdown",
   "metadata": {},
   "source": [
    "## 问题 6  \n",
    "\n",
    "> 给定一个包含大写字母和小写字母的字符串 s ，返回 字符串包含的 **最长的回文子串的长度** 。请注意 区分大小写 。比如 \"Aa\" 不能当做一个回文字符串。\n",
    ">\n",
    "\n",
    "请设计一个算法解决上述问题，只需要输出最长回文子串的长度，分析算法设计思路，计算时间复杂度，并基于python编程实现\n",
    "\n",
    "e.g. 输入： s=\"adccaccd\"，  输出：7。 最长回文子串为：\"dccaccd\", 长度为7\n"
   ]
  },
  {
   "cell_type": "markdown",
   "metadata": {},
   "source": [
    "idea："
   ]
  },
  {
   "cell_type": "markdown",
   "metadata": {},
   "source": [
    "回文字符串是对称的，因此可以将每个字符（或两个字符之间的位置）作为回文的中心，从中心向两边扩展，检查回文的最大长度。如果我们从每个可能的中心向两边扩展，直到回文不成立，我们就找到了以该中心为中心的最大回文子串。对于每个字符，我们都会向两边扩展，最坏情况下，每个字符都会扩展到整个字符串长度。因此，时间复杂度是 O(n^2)"
   ]
  },
  {
   "cell_type": "code",
   "execution_count": 8,
   "metadata": {},
   "outputs": [
    {
     "name": "stdout",
     "output_type": "stream",
     "text": [
      "7\n"
     ]
    }
   ],
   "source": [
    "def longestPalindrome(s: str) -> int:\n",
    "    if not s:\n",
    "        return 0\n",
    "    \n",
    "    def expand_from_center(s, left, right):\n",
    "        while left >= 0 and right < len(s) and s[left] == s[right]:\n",
    "            left -= 1\n",
    "            right += 1\n",
    "        return right - left - 1  # 返回回文子串的长度\n",
    "    \n",
    "    max_len = 1  # 最短的回文子串长度为1\n",
    "    for i in range(len(s)):\n",
    "        # 寻找以s[i]为中心的回文（奇数长度回文）\n",
    "        len1 = expand_from_center(s, i, i)\n",
    "        # 寻找以s[i]和s[i+1]为中心的回文（偶数长度回文）\n",
    "        len2 = expand_from_center(s, i, i + 1)\n",
    "        # 更新最大回文长度\n",
    "        max_len = max(max_len, len1, len2)\n",
    "    \n",
    "    return max_len\n",
    "\n",
    "\n",
    "s=\"adccaccd\"\n",
    "print(longestPalindrome(s))"
   ]
  },
  {
   "cell_type": "markdown",
   "metadata": {},
   "source": [
    "## 问题 7 \n",
    "\n",
    "> 沿一条长河流分散着n座房子。你可以把这条河想象成一条轴，房子是由它们在这条轴上的坐标按顺序排列的。你的公司想在河边的特定地点设置手机基站，这样每户人家都在距离基站4公里的范围内。输入可以看作为一个升序数组，数组元素的取值为大于等于0的正整数，你需要输出最小基站的数目，基站的位置。\n",
    "\n",
    "1. 给出一个时间复杂度为$O(n$) 的算法，使所使用的基站数量最小化，分析算法设计思路，使用python编程实现\n",
    "2. 证明1.中算法产生了最优解决方案。\n",
    "\n",
    "e.g. \n",
    "\n",
    "输入： [1, 5, 12, 33, 34,35]  输出：基站数目为3， 基站位置为[1，12，33]\n",
    "\n"
   ]
  },
  {
   "cell_type": "markdown",
   "metadata": {},
   "source": [
    "idea："
   ]
  },
  {
   "cell_type": "markdown",
   "metadata": {},
   "source": [
    "从第一个房子开始，我们需要尽可能远地放置基站以覆盖更多的房子，但基站的覆盖范围限制为4公里。对于当前房子，选择一个位置，使得这个基站可以覆盖尽可能多的房子。最优选择是将基站放在最远的房子上，且这个房子与当前房子的距离不超过4公里。然后，继续扫描下一个房子并重复这个过程，直到所有房子都被覆盖。由于我们是从左到右扫描数组，并且每次都只遍历一次房子位置，因此时间复杂度是 O(n)。"
   ]
  },
  {
   "cell_type": "code",
   "execution_count": 10,
   "metadata": {},
   "outputs": [
    {
     "name": "stdout",
     "output_type": "stream",
     "text": [
      "基站数目为3， 基站位置为[5, 12, 35]\n"
     ]
    }
   ],
   "source": [
    "def minStations(houses):\n",
    "    n = len(houses)\n",
    "    stations = []\n",
    "    i = 0\n",
    "    \n",
    "    while i < n:\n",
    "        # Step 1: 找到最远的房子位置，放置基站\n",
    "        s = houses[i]\n",
    "        while i < n and houses[i] <= s + 4:  # 寻找第一个房子，在4公里范围内\n",
    "            i += 1\n",
    "        i -= 1  # i现在指向可以放置基站的房子\n",
    "        \n",
    "        # Step 2: 放置基站\n",
    "        stations.append(houses[i])\n",
    "        \n",
    "        # Step 3: 跳过所有已覆盖的房子\n",
    "        i += 1\n",
    "        while i < n and houses[i] <= houses[i-1] + 4:\n",
    "            i += 1\n",
    "    \n",
    "    return len(stations), stations\n",
    "\n",
    "houses = [1, 5, 12, 33, 34,35]\n",
    "stations_num, stations = minStations(houses)\n",
    "print(\"基站数目为{stations_num}， 基站位置为{stations}\".format(stations_num=stations_num, stations=stations))"
   ]
  },
  {
   "cell_type": "markdown",
   "metadata": {},
   "source": [
    "## 问题 8  \n",
    "\n",
    "> 给定由n个正整数组成的一个集合$S = \\{a_1, a_2，···，a_n\\}$和一个正整数W，设计一个算法确定是否存在S的一个子集 $K \\subseteq S$, 使K中所有数之和为 $W$, 如果存在返回“True”，否则返回“False”\n",
    "\n",
    "请设计一个时间复杂度为$O(nW)$动态规划算法，解决上述问题，分析算法的设计思路，并且基于python编程实现（不需要输出子集）。\n",
    "\n",
    "e.g. \n",
    "\n",
    "输入：S = {1,4,7,3,5}， W = 11，输出：True。   因为K可以是{4,7}。\n",
    "\n"
   ]
  },
  {
   "cell_type": "markdown",
   "metadata": {},
   "source": [
    "idea："
   ]
  },
  {
   "cell_type": "markdown",
   "metadata": {},
   "source": [
    "定义一个布尔数组 dp，其中 dp[j] 表示是否可以从集合 S 中选出一些数，使得它们的和为 j。初始时，我们可以确定 dp[0] = True，因为任何集合的和为 0 都可以通过选择空集来实现，对于每个元素 a_i，我们从 W 开始向下更新 dp 数组。对于每个 j，如果 dp[j - a_i] 为 True，说明可以通过选择元素 a_i 来构成和为 j 的子集，因此我们更新 dp[j] 为 True，最终，我们检查 dp[W] 是否为 True，如果是，则说明存在一个子集，其和为 W；否则不存在这样的子集。O(n * W)，其中 n 是集合 S 的大小，W 是目标和。对于每个元素，我们遍历从 W 到 a_i 的所有值，进行更新，因此时间复杂度为 O(n * W)。"
   ]
  },
  {
   "cell_type": "code",
   "execution_count": 11,
   "metadata": {},
   "outputs": [
    {
     "name": "stdout",
     "output_type": "stream",
     "text": [
      "True\n"
     ]
    }
   ],
   "source": [
    "def canPartition(S, W):\n",
    "    # 初始化dp数组，大小为W+1，默认值为False\n",
    "    dp = [False] * (W + 1)\n",
    "    \n",
    "    # 目标和为0总是可以通过选择空集得到\n",
    "    dp[0] = True\n",
    "    \n",
    "    # 遍历集合S中的每个元素\n",
    "    for num in S:\n",
    "        # 从W到num更新dp数组\n",
    "        for j in range(W, num - 1, -1):\n",
    "            dp[j] = dp[j] or dp[j - num]\n",
    "    \n",
    "    # 返回是否可以通过选择子集得到和为W\n",
    "    return dp[W]\n",
    "\n",
    "S = {1,4,7,3,5}\n",
    "W = 11\n",
    "print(canPartition(S, W))"
   ]
  },
  {
   "cell_type": "markdown",
   "metadata": {},
   "source": [
    "\n",
    "\n",
    "## 问题 9 \n",
    "\n",
    "> 给定一个n个物品的集合。物体的重量为$w_1, w_2，…、w_n$，物品的价值分别是$v_1、v_2、…v_n$。给你**两个**重量为 $c$ 的背包。如果你带了一个东西，它可以放在一个背包里，也可以放在另一个背包里，但不能同时放在两个背包里。所有权重和价值都是正整数。\n",
    "\n",
    "1. 设计一个时间复杂度为 $O(nc^2)$ 的动态规划算法，确定可以放入两个背包的物体的最大价值。分析算法设计思路，并基于python编程实现\n",
    "2. \\* 修改1中的算法，输出每个背包的内容（物品对应下标）。\n",
    "\n",
    "e.g.: \n",
    "\n",
    "输入 V=[1,3,2,5,8,7], W=[1,3,2,5,8,7], c=7, 输出：最大价值=14，背包装的物品为：[6] [4，3] （同一个背包中物品装入顺序对结果无影响）  \n"
   ]
  },
  {
   "cell_type": "markdown",
   "metadata": {},
   "source": [
    "idea："
   ]
  },
  {
   "cell_type": "code",
   "execution_count": 16,
   "metadata": {},
   "outputs": [
    {
     "name": "stdout",
     "output_type": "stream",
     "text": [
      "最大价值:14,背包装的物品为:[6],[3, 4]\n"
     ]
    }
   ],
   "source": [
    "def two_knapsack_max_value(V, W, c):\n",
    "    n = len(V)\n",
    "    dp = [[[0] * (c + 1) for _ in range(c + 1)] for _ in range(n + 1)]\n",
    "    choice = [[[0] * (c + 1) for _ in range(c + 1)] for _ in range(n + 1)]\n",
    "\n",
    "    for i in range(1, n + 1):\n",
    "        for j in range(c + 1):\n",
    "            for k in range(c + 1):\n",
    "                # 默认：不放第 i 个物品\n",
    "                dp[i][j][k] = dp[i-1][j][k]\n",
    "                choice[i][j][k] = 0\n",
    "\n",
    "                # 放入背包1\n",
    "                if j >= W[i-1] and dp[i-1][j - W[i-1]][k] + V[i-1] > dp[i][j][k]:\n",
    "                    dp[i][j][k] = dp[i-1][j - W[i-1]][k] + V[i-1]\n",
    "                    choice[i][j][k] = 1\n",
    "\n",
    "                # 放入背包2\n",
    "                if k >= W[i-1] and dp[i-1][j][k - W[i-1]] + V[i-1] > dp[i][j][k]:\n",
    "                    dp[i][j][k] = dp[i-1][j][k - W[i-1]] + V[i-1]\n",
    "                    choice[i][j][k] = 2\n",
    "\n",
    "    # 回溯获取每个背包的内容\n",
    "    i, j, k = n, c, c\n",
    "    bag1, bag2 = [], []\n",
    "\n",
    "    while i > 0:\n",
    "        if choice[i][j][k] == 1:\n",
    "            bag1.append(i-1)\n",
    "            j -= W[i-1]\n",
    "        elif choice[i][j][k] == 2:\n",
    "            bag2.append(i-1)\n",
    "            k -= W[i-1]\n",
    "        # 如果是0则不放入任何背包\n",
    "        i -= 1\n",
    "\n",
    "    return dp[n][c][c], [x + 1 for x in bag1[::-1]], [x + 1 for x in bag2[::-1]]  # 反转顺序，按输入顺序输出\n",
    "\n",
    "# 测试示例\n",
    "V = [1, 3, 2, 5, 8, 7]\n",
    "W = [1, 3, 2, 5, 8, 7]\n",
    "c = 7\n",
    "max_value, bag1_items, bag2_items = two_knapsack_max_value(V, W, c)\n",
    "print(\"最大价值:{max_value},背包装的物品为:{bag1_items},{bag2_items}\".format(max_value=max_value, bag1_items=bag1_items, bag2_items=bag2_items))\n",
    "\n",
    "\n"
   ]
  },
  {
   "cell_type": "markdown",
   "metadata": {},
   "source": [
    "## 问题 10 \n",
    "\n",
    "> 给定两个字符串 $x[1..n]$ 和 $y[1..m]$，我们想通过以下操作将 $x$ 变换为 $y$ :\n",
    ">\n",
    "> **插入**：在 $x$ 中插入一个字符(在任何位置)；**删除**：从 $x$ 中删除一个字符(在任何位置)； **替换**：用另一个字符替换 $x$ 中的一个字符。\n",
    ">\n",
    "> 例如: $x = abcd$, $y = bcfe$，\n",
    ">\n",
    "> - 将 $x$ 转换为 $y$ 的一种可能方法是：1. 删除 $x$ 开头的 $a$, $x$变成 $bcd$； 2. 将 $x$ 中的字符 $d$ 替换为字符 $f$。$x$ 变成 $bcf$； 3. 在 $x$ 的末尾插入字符 $e$。$x$ 变成 $bcfe$。\n",
    ">\n",
    "> - 另一种可能的方法：1. 删除 $x$ 开头的 $a$,  $x$ 变成 $bcd$； 2. 在 $x$ 中字符 $d$ 之前插入字符 $f$。$x$ 变成 $bcfd$。3. 将 $x$ 中的字符 $d$ 替换为字符 $e$。$x$ 变成 $bcfe$。\n",
    "\n",
    "设计一个时间复杂度为 $O(mn)$ 的算法，返回将 $x$ 转换为 $y$ 所需的最少操作次数。分析算法设计思路，并基于python编程实现。\n"
   ]
  },
  {
   "cell_type": "markdown",
   "metadata": {},
   "source": [
    "idea："
   ]
  },
  {
   "cell_type": "markdown",
   "metadata": {},
   "source": [
    "采用动态规划算法，定义 dp[i][j] 表示将字符串 x[0..i-1] 转换为 y[0..j-1] 所需的最少操作次数。通过逐步比较两个字符串的字符，如果当前字符相同则无需操作；否则考虑插入、删除或替换操作中的最小代价来更新状态。初始状态设为将空串转换为目标串的代价，最终结果保存在 dp[n][m] 中。该算法通过构建一个 $(n+1) \\times (m+1)$ 的二维状态表，自底向上填表求解，时间复杂度为 $O(nm)$。"
   ]
  },
  {
   "cell_type": "code",
   "execution_count": 17,
   "metadata": {},
   "outputs": [
    {
     "name": "stdout",
     "output_type": "stream",
     "text": [
      "3\n"
     ]
    }
   ],
   "source": [
    "def edit_distance(x: str, y: str) -> int:\n",
    "    n, m = len(x), len(y)\n",
    "    dp = [[0] * (m + 1) for _ in range(n + 1)]\n",
    "\n",
    "    # 初始化第一行和第一列\n",
    "    for i in range(n + 1):\n",
    "        dp[i][0] = i\n",
    "    for j in range(m + 1):\n",
    "        dp[0][j] = j\n",
    "\n",
    "    # 填表\n",
    "    for i in range(1, n + 1):\n",
    "        for j in range(1, m + 1):\n",
    "            if x[i - 1] == y[j - 1]:\n",
    "                dp[i][j] = dp[i - 1][j - 1]\n",
    "            else:\n",
    "                dp[i][j] = min(\n",
    "                    dp[i - 1][j] + 1,     # 删除\n",
    "                    dp[i][j - 1] + 1,     # 插入\n",
    "                    dp[i - 1][j - 1] + 1  # 替换\n",
    "                )\n",
    "\n",
    "    return dp[n][m]\n",
    "\n",
    "x = 'abcd'\n",
    "y = 'bcfe'\n",
    "print(edit_distance(x, y))"
   ]
  }
 ],
 "metadata": {
  "kernelspec": {
   "display_name": "Alpaca",
   "language": "python",
   "name": "python3"
  },
  "language_info": {
   "codemirror_mode": {
    "name": "ipython",
    "version": 3
   },
   "file_extension": ".py",
   "mimetype": "text/x-python",
   "name": "python",
   "nbconvert_exporter": "python",
   "pygments_lexer": "ipython3",
   "version": "3.10.15"
  }
 },
 "nbformat": 4,
 "nbformat_minor": 2
}

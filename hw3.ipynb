{
 "cells": [
  {
   "cell_type": "markdown",
   "metadata": {},
   "source": [
    "## algorithm design and anlysis-2025 spring  homework 3\n",
    "**Deadline**：2025.5.14\n",
    "\n",
    "**name**:\n",
    "\n",
    "\n",
    "note：\n",
    "---\n",
    "1. 带有\\*的题目，申请免上课的同学，必须完成，其他同学选作；\n",
    "2. 请独立完成，如求助了他人或者大模型，请著明，并且不可省略算法分析部分；\n",
    "4. 如若作答有雷同，全部取消成绩；\n",
    "3. 需要书面作答的题目，可以通过引用图片的形式添加，但是注意上传项目时包含所引用的图片的源文件；\n",
    "4. $log_n$ 默认表示$log_2{n}$;"
   ]
  },
  {
   "cell_type": "markdown",
   "metadata": {},
   "source": [
    "## 问题 1  \n",
    "\n",
    "请证明基于比较的排序算法计算复杂度下界为$\\Omega(nlogn)$"
   ]
  },
  {
   "cell_type": "markdown",
   "metadata": {},
   "source": [
    "you can refer a handwritten picture, pleas upload the picture in /fig/xxx.png\n",
    "answer："
   ]
  },
  {
   "cell_type": "markdown",
   "metadata": {},
   "source": [
    "AI回答：\n",
    "我们要证明：任意基于比较的排序算法在最坏情况下的时间复杂度下界是 Ω(n log n)。\n",
    "\n",
    "一、排序模型说明：\n",
    "\n",
    "我们考虑的是基于比较的排序算法。这类算法只能通过比较两个元素的大小关系（例如，是否 a < b）来获取信息。排序的所有决策都建立在这些比较结果的基础上。\n",
    "\n",
    "二、决策树模型（Decision Tree Model）：\n",
    "\n",
    "为了分析这类算法的复杂度，我们引入决策树模型。这个模型将所有可能的比较过程表示成一棵树：\n",
    "\n",
    "树的每个内部节点代表一次比较，例如 a_i 和 a_j。\n",
    "\n",
    "树的每条路径表示算法对某一特定输入所进行的比较序列。\n",
    "\n",
    "树的每个叶节点表示最终确定的一种输入元素排列。\n",
    "\n",
    "对于长度为 n 的输入，可能的排列情况总共有 n! 种。\n",
    "\n",
    "因此，这棵决策树必须至少有 n! 个叶节点，以保证能处理所有可能的输入。\n",
    "\n",
    "三、树的高度下界：\n",
    "\n",
    "在二叉树中，若有 L 个叶子节点，则树的高度 h 至少为 log₂ L。因此：\n",
    "\n",
    "h ≥ log₂(n!)\n",
    "\n",
    "这个高度 h 表示排序算法在最坏情况下所需的比较次数的下界。\n",
    "\n",
    "四、估算 log₂(n!) 的大小：\n",
    "\n",
    "我们使用 Stirling 近似公式来估计 n! 的大小：\n",
    "\n",
    "n! ≈ sqrt(2πn) * (n/e)^n\n",
    "\n",
    "对 n! 取以 2 为底的对数（忽略常数项）：\n",
    "\n",
    "log₂(n!) ≈ log₂((n/e)^n) = n * log₂(n/e) = n * log₂ n - n * log₂ e\n",
    "\n",
    "因此，log₂(n!) = Θ(n log n)\n",
    "\n",
    "五、结论：\n",
    "\n",
    "所以，任何基于比较的排序算法，其比较次数在最坏情况下至少为 log₂(n!)，即 Ω(n log n)。\n",
    "\n",
    "因此，我们证明了：基于比较的排序算法的时间复杂度下界是 Ω(n log n)。"
   ]
  },
  {
   "cell_type": "markdown",
   "metadata": {},
   "source": [
    "## 问题 2 \n",
    "\n",
    "构建二叉搜索树\n",
    "\n",
    "> 1. 给定一个数组 [48, 33, 49, 47, 42, 46, 32], 构建一个二叉搜索树存储这些数据，请**绘制**所构建的**二叉搜索树**（标明结点的值）。\n",
    "> 2. 从第1问的二叉搜索树中删除33，请**绘制**删除33后的**二叉搜索树**（标明结点的值）\n",
    "\n",
    "- 推荐使用graphviz包绘制树的结构"
   ]
  },
  {
   "cell_type": "markdown",
   "metadata": {},
   "source": [
    "见fig文件中    hw3-问题2-answer1.png  hw3-问题2-answer2.png"
   ]
  },
  {
   "cell_type": "markdown",
   "metadata": {},
   "source": [
    "you can refer a handwritten picture, pleas upload the picture in /fig/xxx.png\n",
    "answer："
   ]
  },
  {
   "cell_type": "markdown",
   "metadata": {},
   "source": [
    "## 问题 3 \n",
    "\n",
    "> 下面是九门课程的开始和结束时间:\n",
    ">\n",
    "> [(9:00,12:30), (11:00,14:00), (13:00, 14:30), (9:00,10:30),(13:00, 14:30),(14:00,16:30), (15:00,16:30), (15:00,16:30), (9:00,10:30)]\n",
    ">\n",
    "> 请使用贪婪算法为这九门课分配教室，要求在同一天内安排这些课，并且每个教室同一时间只能安排一门课。\n",
    "\n",
    "**请问最少需要几间教室，罗列出每个教室安排的课程**"
   ]
  },
  {
   "cell_type": "markdown",
   "metadata": {},
   "source": [
    "idea："
   ]
  },
  {
   "cell_type": "code",
   "execution_count": null,
   "metadata": {
    "vscode": {
     "languageId": "plaintext"
    }
   },
   "outputs": [],
   "source": [
    "from datetime import time\n",
    "import heapq\n",
    "\n",
    "# 定义课程时间段\n",
    "course_times = [\n",
    "    (\"9:00\", \"12:30\"), (\"11:00\", \"14:00\"), (\"13:00\", \"14:30\"),\n",
    "    (\"9:00\", \"10:30\"), (\"13:00\", \"14:30\"), (\"14:00\", \"16:30\"),\n",
    "    (\"15:00\", \"16:30\"), (\"15:00\", \"16:30\"), (\"9:00\", \"10:30\")\n",
    "]\n",
    "def schedule_courses(course_times):\n",
    "    # 辅助函数：将字符串时间转为 datetime.time 对象\n",
    "    def str_to_time(t):\n",
    "        h, m = map(int, t.split(\":\"))\n",
    "        return time(h, m)\n",
    "\n",
    "    # 将课程时间转换为可比较的对象\n",
    "    intervals = [(str_to_time(start), str_to_time(end)) for start, end in course_times]\n",
    "\n",
    "    # 按开始时间排序\n",
    "    intervals.sort(key=lambda x: x[0])\n",
    "\n",
    "    # 使用最小堆来管理教室的结束时间\n",
    "    classrooms = []  # 每个教室是一个堆，包含 (当前课程结束时间, 教室编号)\n",
    "\n",
    "    # 映射教室编号到其安排的课程列表\n",
    "    classroom_schedule = {}\n",
    "\n",
    "    # 教室计数器\n",
    "    room_counter = 0\n",
    "\n",
    "    for start, end in intervals:\n",
    "        assigned = False\n",
    "        # 尝试将课程分配到已有教室（堆中最早结束的先尝试）\n",
    "        for i in range(len(classrooms)):\n",
    "            earliest_end, room_id = classrooms[i]\n",
    "            if earliest_end <= start:\n",
    "                # 可以安排这节课，更新该教室的结束时间\n",
    "                classrooms[i] = (end, room_id)\n",
    "                heapq.heapify(classrooms)\n",
    "                classroom_schedule[room_id].append((start, end))\n",
    "                assigned = True\n",
    "                break\n",
    "        if not assigned:\n",
    "            # 分配新教室\n",
    "            room_id = room_counter\n",
    "            room_counter += 1\n",
    "            heapq.heappush(classrooms, (end, room_id))\n",
    "            classroom_schedule[room_id] = [(start, end)]\n",
    "\n",
    "    # 格式化输出\n",
    "    formatted_schedule = {}\n",
    "    for room_id, courses in classroom_schedule.items():\n",
    "        formatted_schedule[f\"教室{room_id + 1}\"] = [(c[0].strftime(\"%H:%M\"), c[1].strftime(\"%H:%M\")) for c in courses]\n",
    "\n",
    "    len(formatted_schedule), formatted_schedule\n"
   ]
  },
  {
   "cell_type": "markdown",
   "metadata": {},
   "source": [
    "## 问题 4 \n",
    "\n",
    "> 爬楼梯问题：假设爬楼梯时你每次只能爬一阶或者爬两阶，问爬上n阶的楼梯，你一共有多少种方法\n",
    "\n",
    "请设计算法完成该问题，分析算法设计思路，计算时间复杂度，并基于python编程实现"
   ]
  },
  {
   "cell_type": "markdown",
   "metadata": {},
   "source": [
    "idea："
   ]
  },
  {
   "cell_type": "markdown",
   "metadata": {},
   "source": [
    "如果我们要爬到第 n 阶，可以从第 n-1 阶爬 1 阶到达，或者从第 n-2 阶爬 2 阶到达。因此，爬到第 n 阶的方法数可以由爬到第 n-1 阶和第 n-2 阶的方法数之和得到：f(n)=f(n−1)+f(n−2)"
   ]
  },
  {
   "cell_type": "code",
   "execution_count": null,
   "metadata": {},
   "outputs": [],
   "source": [
    "def climbStairs(n):\n",
    "    # 特殊情况处理\n",
    "    if n == 0:\n",
    "        return 1\n",
    "    elif n == 1:\n",
    "        return 1\n",
    "    \n",
    "    # 初始化前两个状态\n",
    "    a, b = 1, 1\n",
    "    \n",
    "    # 使用迭代的方式计算 f(n)\n",
    "    for i in range(2, n + 1):\n",
    "        a, b = b, a + b  # 更新 a 和 b, b 是 f(i), a 是 f(i-1)\n",
    "    \n",
    "    return b\n"
   ]
  },
  {
   "cell_type": "markdown",
   "metadata": {},
   "source": [
    "## 问题 5 \n",
    "\n",
    "> 0-1背包问题：现在有4块大理石，每个大理石对应的重量和价值使用一个元组表示, 即（重量，价值），4块大理石的重量和价值为：[(5,10), (4,40), (6,30), (3, 50)], 假设你有一辆最大承重为9的小推车，请问使用这个小推车装大理石的最大价值为多少\n",
    "\n",
    "请设计一个算法解决该问题，分析算法设计思路，计算时间复杂度，并基于python编程实现"
   ]
  },
  {
   "cell_type": "markdown",
   "metadata": {},
   "source": [
    "idea："
   ]
  },
  {
   "cell_type": "markdown",
   "metadata": {},
   "source": [
    "我们定义一个一维数组 dp，其中 dp[i] 表示在背包容量为 i 时，能够获得的最大价值。对于每一块大理石，如果我们不选它，dp[i] 维持原有值；如果我们选择它，则更新 dp[i] 为 dp[i - weight] + value，其中 weight 是大理石的重量，value 是大理石的价值。状态转移方程为：dp[i]=max(dp[i],dp[i−weight]+value)。为了避免重复使用同一物品，每次在更新 dp 时需要从背包容量 W 到 weight 逆序遍历，这样确保每个大理石只被选择一次。我们有 n 个大理石和背包最大容量为 W。对于每个大理石，我们遍历容量从 W 到 weight 的所有背包容量，更新 dp 数组。因此时间复杂度为 O(n * W)。"
   ]
  },
  {
   "cell_type": "code",
   "execution_count": null,
   "metadata": {},
   "outputs": [],
   "source": [
    "def knapsack(weights, values, W):\n",
    "    n = len(weights)  # 大理石的数量\n",
    "    dp = [0] * (W + 1)  # 创建一个大小为 W+1 的 dp 数组，初始化为 0\n",
    "    \n",
    "    # 遍历每一块大理石\n",
    "    for i in range(n):\n",
    "        weight = weights[i]\n",
    "        value = values[i]\n",
    "        # 逆序遍历背包容量，避免重复选择\n",
    "        for w in range(W, weight - 1, -1):\n",
    "            dp[w] = max(dp[w], dp[w - weight] + value)\n",
    "    \n",
    "    return dp[W]"
   ]
  },
  {
   "cell_type": "markdown",
   "metadata": {},
   "source": [
    "## 问题 6 \n",
    "给定 `n` 个非负整数表示每个宽度为 `1` 的柱子的高度图，计算按此排列的柱子，下雨之后能接多少雨水。\n",
    "\n",
    "\n",
    "\n",
    "<div style=\"text-align:center;width:800px;\"> <img alt=\"\" src=\"./fig/hw3q6.png\"> </div>\n",
    "\n",
    "请分析算法设计思路，计算时间复杂度，并基于python编程实现"
   ]
  },
  {
   "cell_type": "markdown",
   "metadata": {},
   "source": [
    "idea："
   ]
  },
  {
   "cell_type": "markdown",
   "metadata": {},
   "source": [
    "为了解决这个问题，我们需要注意到：任何一块能够接水的区域都依赖于当前柱子左侧和右侧的最大柱子的高度。具体来说：\n",
    "对于任意柱子 i，可以接的水量是 min(max_left[i], max_right[i]) - height[i]，其中：max_left[i] 是柱子 i 左侧的最大高度。max_right[i] 是柱子 i 右侧的最大高度。height[i] 是柱子 i 的高度。因此，可以分为两个步骤：计算每个柱子左侧和右侧的最大高度，计算每个柱子能接的水量，然后求和得到最终的结果。"
   ]
  },
  {
   "cell_type": "code",
   "execution_count": null,
   "metadata": {},
   "outputs": [],
   "source": [
    "def trap(height):\n",
    "    if not height:\n",
    "        return 0\n",
    "\n",
    "    # 初始化指针和变量\n",
    "    left, right = 0, len(height) - 1\n",
    "    left_max, right_max = 0, 0\n",
    "    total_water = 0\n",
    "\n",
    "    # 双指针法\n",
    "    while left <= right:\n",
    "        if height[left] <= height[right]:\n",
    "            if height[left] >= left_max:\n",
    "                left_max = height[left]\n",
    "            else:\n",
    "                total_water += left_max - height[left]\n",
    "            left += 1\n",
    "        else:\n",
    "            if height[right] >= right_max:\n",
    "                right_max = height[right]\n",
    "            else:\n",
    "                total_water += right_max - height[right]\n",
    "            right -= 1\n",
    "\n",
    "    return total_water"
   ]
  },
  {
   "cell_type": "markdown",
   "metadata": {},
   "source": [
    "## 问题 7 \n",
    "\n",
    "**股票投资组合优化**： 假设你是一位投资者，想要在不同的股票中分配你的资金，以最大化你的投资回报。每只股票都有不同的预期收益率和风险。你的目标是选择一些股票，使得总投资金额不超过你的预算，并且预期收益最大化。\n",
    "\n",
    "在这个情况下，你可以将每只股票视为一个“物品”，其重量为投资金额，价值为预期收益率。然后，你可以使用分级背包问题的方法来选择部分股票，以便在预算内获得最大的预期收益。\n",
    "\n",
    "以下是一个简化的例子：\n",
    "\n",
    "假设你有以下三只股票可供选择：\n",
    "\n",
    "1. 股票 A：投资金额 5000 美元，预期收益率 10%\n",
    "2. 股票 B：投资金额 3000 美元，预期收益率 8%\n",
    "3. 股票 C：投资金额 2000 美元，预期收益率 12%\n",
    "\n",
    "请设计算法找到最优投资方案，分析算法设计思路，计算时间复杂度，并基于python编程实现"
   ]
  },
  {
   "cell_type": "markdown",
   "metadata": {},
   "source": [
    "idea："
   ]
  },
  {
   "cell_type": "markdown",
   "metadata": {},
   "source": [
    "我们定义 dp[i] 表示在预算为 i 时，能够获得的最大预期收益率。对于每只股票，如果不选择它，dp[i] 维持原值；如果选择它，则更新 dp[i] 为 dp[i - investment] + rate，其中 investment 为股票的投资金额，rate 为股票的预期收益率。状态转移方程为：dp[i]=max(dp[i],dp[i−investment]+rate)其中，investment 是股票的投资金额，rate 是股票的预期收益率。逆序遍历：我们从预算 max_budget 开始，逆序遍历，以避免重复使用同一只股票。最终结果：dp[max_budget] 即为在预算限制下，最大化预期收益率的值。对于每只股票，我们都遍历一次预算，所以时间复杂度为 O(n * max_budget)"
   ]
  },
  {
   "cell_type": "code",
   "execution_count": null,
   "metadata": {},
   "outputs": [],
   "source": [
    "def maximize_returns(stocks, max_budget):\n",
    "    # 创建一个大小为 max_budget + 1 的 dp 数组，初始化为 0\n",
    "    dp = [0] * (max_budget + 1)\n",
    "    \n",
    "    # 遍历每只股票\n",
    "    for investment, rate in stocks:\n",
    "        # 逆序遍历预算，避免重复选择同一只股票\n",
    "        for budget in range(max_budget, investment - 1, -1):\n",
    "            dp[budget] = max(dp[budget], dp[budget - investment] + rate)\n",
    "    \n",
    "    # 返回最大预算下的最大收益率\n",
    "    return dp[max_budget]"
   ]
  },
  {
   "cell_type": "markdown",
   "metadata": {},
   "source": [
    "## 问题 8\n",
    "\n",
    "给你二叉搜索树的根节点 root ，该树中的恰好两个节点的值被错误地交换。请在不改变其结构的情况下，恢复这棵树 。设计算法解决该问题，分析算法设计思路，计算时间复杂度，并基于python编程实现\n",
    "\n",
    "e.g.:\n",
    "---\n",
    "1.\n",
    "\n",
    "<div style=\"text-align:center;width:200px;\"> <img alt=\"\" src=\"./fig/hw3q9-1.jpg\"> </div>\n",
    "输入：root = [1,3,null,null,2]， 输出为：[3,1,null,null,2]， \n",
    "\n",
    "解释：3 不能是 1 的左孩子，因为 3 > 1 。交换 1 和 3 使二叉搜索树有效。\n",
    "\n",
    "2.\n",
    "\n",
    " <div style=\"text-align:center;width:200px;\"> <img alt=\"\" src=\"./fig/hw3q9-1.jpg\"> </div>\n",
    "输入： root=[3,1,4,null,null,2]， 输出为：[2,1,4,null,null,3]\n",
    "\n",
    "解释：2 不能在 3 的右子树中，因为 2 < 3 。交换 2 和 3 使二叉搜索树有效。"
   ]
  },
  {
   "cell_type": "markdown",
   "metadata": {},
   "source": [
    "idea：\n"
   ]
  },
  {
   "cell_type": "markdown",
   "metadata": {},
   "source": [
    "AI：算法设计思路\n",
    "二叉搜索树的性质：\n",
    "\n",
    "对于二叉搜索树（BST），其中序遍历的结果应当是一个严格递增的序列。\n",
    "\n",
    "如果两个节点的值被错误地交换，那么在中序遍历时，某些地方会出现递减的情况。\n",
    "\n",
    "问题分析：\n",
    "\n",
    "中序遍历是解决这个问题的关键。如果我们遍历这棵树并记录它的中序遍历结果，我们可以发现错误的两个节点。具体地，错误的两个节点会使得中序遍历出现两个不满足递增关系的位置。\n",
    "\n",
    "假设中序遍历结果为 ...a, b, c, ...，其中 b > c。这意味着 b 和 c 的值被交换了。如果我们能找出这两个节点，我们就可以恢复树的正确结构。\n",
    "\n",
    "恢复策略：\n",
    "\n",
    "中序遍历树，并找到两个节点（x 和 y）满足 x > y 的情况。\n",
    "\n",
    "交换这两个节点的值，从而恢复树。\n",
    "\n",
    "步骤：\n",
    "\n",
    "使用中序遍历来检测不满足递增顺序的位置。\n",
    "\n",
    "找到交换的两个节点。\n",
    "\n",
    "交换这两个节点的值。\n",
    "\n",
    "时间复杂度分析\n",
    "时间复杂度：O(n)，其中 n 是树中的节点数。我们需要进行一次中序遍历，遍历所有节点一次。"
   ]
  },
  {
   "cell_type": "code",
   "execution_count": null,
   "metadata": {},
   "outputs": [],
   "source": [
    "class TreeNode:\n",
    "    def __init__(self, val=0, left=None, right=None):\n",
    "        self.val = val\n",
    "        self.left = left\n",
    "        self.right = right\n",
    "\n",
    "def recoverTree(root):\n",
    "    # 中序遍历的结果\n",
    "    nodes = []\n",
    "    def inorder(node):\n",
    "        if node:\n",
    "            inorder(node.left)\n",
    "            nodes.append(node)\n",
    "            inorder(node.right)\n",
    "    \n",
    "    # 获取所有节点的中序遍历\n",
    "    inorder(root)\n",
    "    \n",
    "    # 发现交换节点的两个位置\n",
    "    x = y = None\n",
    "    for i in range(1, len(nodes)):\n",
    "        if nodes[i].val < nodes[i - 1].val:\n",
    "            y = nodes[i]\n",
    "            if not x:\n",
    "                x = nodes[i - 1]\n",
    "            else:\n",
    "                break\n",
    "    \n",
    "    # 交换这两个节点的值\n",
    "    if x and y:\n",
    "        x.val, y.val = y.val, x.val\n",
    "\n",
    "# 辅助函数：构建树并打印\n",
    "def print_tree(root):\n",
    "    if not root:\n",
    "        return\n",
    "    print_tree(root.left)\n",
    "    print(root.val, end=\" \")\n",
    "    print_tree(root.right)\n",
    "\n",
    "# 示例测试\n",
    "root = TreeNode(1)\n",
    "root.left = TreeNode(3)\n",
    "root.left.right = TreeNode(2)\n",
    "\n",
    "# 恢复二叉搜索树\n",
    "recoverTree(root)\n",
    "\n",
    "# 打印恢复后的树（中序遍历）\n",
    "print_tree(root)\n"
   ]
  },
  {
   "cell_type": "markdown",
   "metadata": {},
   "source": [
    "## 问题 9  \n",
    "\n",
    "给你一个二叉树的根节点 root ，树中每个节点都存放有一个 0 到 9 之间的数字。每条从根节点到叶节点的路径都代表一个数字：\n",
    "\n",
    "> 例如，从根节点到叶节点的路径 1 -> 2 -> 3 表示数字 123 。\n",
    "\n",
    "设计一个算法计算从根节点到叶节点生成的所有数字之和 ，分析算法设计思路，计算时间复杂度，并基于python编程实现\n",
    "\n",
    "叶节点:是指没有子节点的节点。\n",
    "\n",
    "e.g.:\n",
    "---\n",
    "1.\n",
    "\n",
    " <div style=\"text-align:center;width:200px;\"> <img alt=\"figure\" src=\"./fig/hw3q10-1.jpg\"> </div>\n",
    "\n",
    " 输入：root = [1,2,3], 输出：25\n",
    "\n",
    "解释：从根到叶子节点路径 1->2 代表数字 12，1->3 代表数字 13，因此和为 12 + 13 = 25 。\n",
    "\n",
    "2.\n",
    "\n",
    " <div style=\"text-align:center;width:200px;\"> <img alt=\"figure\" src=\"./fig/hw3q10-2.jpg\"> </div>\n",
    "\n",
    " 输入：root = [4,9,0,5,1], 输出：1026\n",
    "\n",
    "解释：从根到叶子节点路径 4->9->5 代表数字 495，4->9->1 代表数字 491，4->0 代表数字 40。因此和为 495 + 491 + 40 = 1026 。"
   ]
  },
  {
   "cell_type": "markdown",
   "metadata": {},
   "source": [
    "idea："
   ]
  },
  {
   "cell_type": "markdown",
   "metadata": {},
   "source": [
    "AI:算法设计思路\n",
    "路径表示：从根节点到每个叶子节点的路径表示一个数字。我们需要将每个路径上的节点值按顺序拼接成数字。\n",
    "\n",
    "递归遍历：我们可以使用深度优先搜索（DFS）或广度优先搜索（BFS）来遍历每一条从根到叶的路径。递归更自然，因为它能够在遍历树的同时将当前路径的数字累积。\n",
    "\n",
    "数字构造：当遍历到某个节点时，可以通过将当前路径的数字乘以 10 然后加上当前节点的值来更新数字。当到达叶子节点时，将该路径对应的数字加到总和中。\n",
    "\n",
    "叶节点的定义：叶节点是没有子节点的节点。对于每一个叶节点，将当前路径的数字累加到结果中。\n",
    "\n",
    "算法步骤\n",
    "深度优先搜索：从根节点开始，递归遍历左子树和右子树。在递归过程中，计算当前路径的数字。\n",
    "\n",
    "路径更新：递归时，当前路径的数字可以通过 current_number * 10 + node.val 更新。若到达叶子节点，则将当前路径的数字加到结果中。\n",
    "\n",
    "时间复杂度分析\n",
    "时间复杂度：O(n)，其中 n 是树中的节点数。每个节点会被访问一次。\n",
    "\n",
    "空间复杂度：O(h)，其中 h 是树的高度。递归栈的空间复杂度为树的高度。"
   ]
  },
  {
   "cell_type": "code",
   "execution_count": null,
   "metadata": {},
   "outputs": [],
   "source": [
    "class TreeNode:\n",
    "    def __init__(self, val=0, left=None, right=None):\n",
    "        self.val = val\n",
    "        self.left = left\n",
    "        self.right = right\n",
    "\n",
    "def sumNumbers(root):\n",
    "    def dfs(node, current_sum):\n",
    "        if not node:\n",
    "            return 0\n",
    "        \n",
    "        # 更新当前路径数字\n",
    "        current_sum = current_sum * 10 + node.val\n",
    "        \n",
    "        # 如果是叶子节点，返回当前路径数字\n",
    "        if not node.left and not node.right:\n",
    "            return current_sum\n",
    "        \n",
    "        # 否则，继续遍历左右子树\n",
    "        return dfs(node.left, current_sum) + dfs(node.right, current_sum)\n",
    "    \n",
    "    # 从根节点开始计算\n",
    "    return dfs(root, 0)\n",
    "\n",
    "# 辅助函数：构建树并打印\n",
    "def print_tree(root):\n",
    "    if not root:\n",
    "        return\n",
    "    print_tree(root.left)\n",
    "    print(root.val, end=\" \")\n",
    "    print_tree(root.right)\n",
    "\n",
    "# 示例测试\n",
    "root = TreeNode(4)\n",
    "root.left = TreeNode(9)\n",
    "root.right = TreeNode(0)\n",
    "root.left.left = TreeNode(5)\n",
    "root.left.right = TreeNode(1)\n",
    "\n",
    "# 计算从根到叶子节点路径数字的和\n",
    "result = sumNumbers(root)\n",
    "print(f\"从根到叶节点路径的数字之和为：{result}\")\n"
   ]
  },
  {
   "cell_type": "markdown",
   "metadata": {},
   "source": [
    "## 问题 10  \n",
    "\n",
    "给你一个二叉树的根节点 root ， 检查它是否轴对称。\n",
    "\n",
    "1. 分析算法设计思路，计算时间复杂度，并基于python编程实现\n",
    "2. \\* 设计使用递归和迭代两种方法解决这个问题，计算时间复杂度，并基于python编程实现\n",
    "\n",
    "e.g.:\n",
    "---\n",
    "1.\n",
    "\n",
    " <div style=\"text-align:center;width:200px;\"> <img alt=\"figure\" src=\"./fig/hw3q11-1.png\"> </div>\n",
    "\n",
    " 输入：root = [1,2,2,3,4,4,3]， 输出：true\n",
    "\n",
    "解释：二叉树 [1,2,2,3,4,4,3] 对称。\n",
    "\n",
    "2.\n",
    "\n",
    " <div style=\"text-align:center;width:200px;\"> <img alt=\"figure\" src=\"./fig/hw3q11-2.png\"> </div>\n",
    "\n",
    " 输入：root = [1,2,2,null,3,null,3]， 输出：false"
   ]
  },
  {
   "cell_type": "markdown",
   "metadata": {},
   "source": [
    "idea"
   ]
  },
  {
   "cell_type": "markdown",
   "metadata": {},
   "source": [
    "AI：算法设计思路\n",
    "我们可以从根节点开始，递归地检查树的左右子树是否镜像对称。具体步骤如下：\n",
    "\n",
    "对称条件：对于两棵树，它们是镜像对称的，满足以下条件：\n",
    "\n",
    "两棵树的根节点值相同。\n",
    "\n",
    "左子树与右子树镜像对称。\n",
    "\n",
    "递归方式：我们可以使用递归来判断树的左右子树是否对称：\n",
    "\n",
    "对于每个节点，递归检查左子树的左子树与右子树的右子树是否对称，以及左子树的右子树与右子树的左子树是否对称。\n",
    "\n",
    "迭代方式：使用队列模拟递归过程，逐层比较树的左右子树是否对称。\n",
    "\n",
    "时间复杂度分析\n",
    "时间复杂度：O(n)，其中 n 是树中的节点数。我们需要遍历树中的所有节点。\n",
    "\n",
    "空间复杂度：递归方法的空间复杂度为 O(h)，其中 h 是树的高度；迭代方法的空间复杂度为 O(n)，因为队列需要存储树的节点。"
   ]
  },
  {
   "cell_type": "code",
   "execution_count": null,
   "metadata": {},
   "outputs": [],
   "source": [
    "class TreeNode:\n",
    "    def __init__(self, val=0, left=None, right=None):\n",
    "        self.val = val\n",
    "        self.left = left\n",
    "        self.right = right\n",
    "\n",
    "def isSymmetric(root: TreeNode) -> bool:\n",
    "    # 判断两个树是否镜像对称\n",
    "    def isMirror(t1, t2):\n",
    "        if not t1 and not t2:\n",
    "            return True\n",
    "        if not t1 or not t2:\n",
    "            return False\n",
    "        return (t1.val == t2.val) and isMirror(t1.left, t2.right) and isMirror(t1.right, t2.left)\n",
    "\n",
    "    if not root:\n",
    "        return True\n",
    "    return isMirror(root.left, root.right)\n",
    "\n",
    "# 辅助函数：构建树并打印\n",
    "def print_tree(root):\n",
    "    if not root:\n",
    "        return\n",
    "    print_tree(root.left)\n",
    "    print(root.val, end=\" \")\n",
    "    print_tree(root.right)\n",
    "\n",
    "# 示例测试\n",
    "root = TreeNode(1)\n",
    "root.left = TreeNode(2)\n",
    "root.right = TreeNode(2)\n",
    "root.left.left = TreeNode(3)\n",
    "root.left.right = TreeNode(4)\n",
    "root.right.left = TreeNode(4)\n",
    "root.right.right = TreeNode(3)\n",
    "\n",
    "result = isSymmetric(root)\n",
    "print(f\"树是否对称：{result}\")\n"
   ]
  },
  {
   "cell_type": "markdown",
   "metadata": {},
   "source": [
    "## 问题 11  \n",
    "\n",
    "给你一个由 '1'（陆地）和 '0'（水）组成的的二维网格，请你计算网格中岛屿的数量。岛屿总是被水包围，并且每座岛屿只能由水平方向和/或竖直方向上相邻的陆地连接形成。\n",
    "\n",
    "此外，你可以假设该网格的四条边均被水包围。\n",
    "\n",
    "分析算法设计思路，计算时间复杂度，并基于python编程实现\n",
    "\n",
    "e.g.:\n",
    "---\n",
    "1.\n",
    "输入：grid = [\n",
    "\n",
    "    [\"1\",\"1\",\"1\",\"1\",\"0\"],\n",
    "\n",
    "    [\"1\",\"1\",\"0\",\"1\",\"0\"], \n",
    "\n",
    "    [\"1\",\"1\",\"0\",\"0\",\"0\"], \n",
    "\n",
    "    [\"0\",\"0\",\"0\",\"0\",\"0\"]  \n",
    "\n",
    "]\n",
    "\n",
    "输出：1\n",
    "\n",
    "2.\n",
    "输入：grid = [\n",
    "\n",
    "    [\"1\",\"1\",\"0\",\"0\",\"0\"],\n",
    "\n",
    "    [\"1\",\"1\",\"0\",\"0\",\"0\"],\n",
    "\n",
    "    [\"0\",\"0\",\"1\",\"0\",\"0\"],\n",
    "\n",
    "    [\"0\",\"0\",\"0\",\"1\",\"1\"]\n",
    "\n",
    "]\n",
    "\n",
    "输出：3"
   ]
  },
  {
   "cell_type": "markdown",
   "metadata": {},
   "source": [
    "idea:"
   ]
  },
  {
   "cell_type": "markdown",
   "metadata": {},
   "source": [
    "AI:一、算法设计思路\n",
    "本质上，这道题是一个图的遍历问题，我们可以使用：\n",
    "\n",
    "DFS（深度优先搜索）\n",
    "\n",
    "BFS（广度优先搜索）\n",
    "\n",
    "核心思想是：\n",
    "\n",
    "遍历整个网格；\n",
    "\n",
    "每当遇到一个未访问的 '1'（陆地）时，就从这个点开始进行 DFS 或 BFS，将与之连接的所有 '1' 标记为已访问（可以直接设为 '0'）；\n",
    "\n",
    "每次从一个新 '1' 开始的搜索都对应着一个新的岛屿。\n",
    "\n",
    "二、时间复杂度分析\n",
    "时间复杂度：O(m * n)，其中 m 是网格的行数，n 是列数。每个位置最多只会被访问一次"
   ]
  },
  {
   "cell_type": "code",
   "execution_count": null,
   "metadata": {},
   "outputs": [],
   "source": [
    "from typing import List\n",
    "\n",
    "def numIslands(grid: List[List[str]]) -> int:\n",
    "    if not grid:\n",
    "        return 0\n",
    "\n",
    "    rows, cols = len(grid), len(grid[0])\n",
    "    count = 0\n",
    "\n",
    "    def dfs(r, c):\n",
    "        # 越界或遇到水直接返回\n",
    "        if r < 0 or c < 0 or r >= rows or c >= cols or grid[r][c] == '0':\n",
    "            return\n",
    "        # 将访问过的陆地标记为水，避免重复访问\n",
    "        grid[r][c] = '0'\n",
    "        # 递归访问四个方向\n",
    "        dfs(r+1, c)\n",
    "        dfs(r-1, c)\n",
    "        dfs(r, c+1)\n",
    "        dfs(r, c-1)\n",
    "\n",
    "    for i in range(rows):\n",
    "        for j in range(cols):\n",
    "            if grid[i][j] == '1':\n",
    "                count += 1\n",
    "                dfs(i, j)\n",
    "\n",
    "    return count\n"
   ]
  }
 ],
 "metadata": {
  "language_info": {
   "name": "python"
  }
 },
 "nbformat": 4,
 "nbformat_minor": 2
}

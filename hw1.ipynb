{
 "cells": [
  {
   "cell_type": "markdown",
   "metadata": {},
   "source": [
    "## algorithm design and anlysis-2025 spring  homework 1 \n",
    "**Deadline**：2025.5.14\n",
    "\n",
    "**name**:\n",
    "\n",
    "\n",
    "note：\n",
    "---\n",
    "1. 带有\\*的题目，申请免上课的同学，必须完成，其他同学选作；\n",
    "2. 请独立完成，如求助了他人或者大模型，请著明，并且不可省略算法分析部分；\n",
    "4. 如若作答有雷同，全部取消成绩；\n",
    "3. 需要书面作答的题目，可以通过引用图片的形式添加，但是注意上传项目时包含所引用的图片的源文件；\n",
    "4. $log_n$ 默认表示$log_2{n}$;"
   ]
  },
  {
   "cell_type": "markdown",
   "metadata": {},
   "source": [
    "## 问题 1\n",
    "\n",
    "对于下面的每一对表达式(A, B), A是否能表示为B的 $\\Theta, \\Omega ,O$形式. 请注意, 这些关系中的零个、一个或多个可能成立。列出所有正确的。经常发生一些学生会,把指示写错, 所以请把关系写完整, 例如: $A = O(B),  A =\\Theta(B)$, 或$A = \\Omega(B)$。\n",
    "\n",
    "1. $A=n^2-100n, B=n^2$\n",
    "2. $A=logn, B=log_{1.2}n$\n",
    "3. $A=3^{2n}, B=2^{4n}$\n",
    "4. $A=2^{logn}, B=n$\n",
    "5. $A=\\log{\\log}{n},B=10^{10^{100}}$"
   ]
  },
  {
   "cell_type": "markdown",
   "metadata": {},
   "source": [
    "见fig文件中的  hw1-问题1-answer.jpg    hw1-问题1-answer.png"
   ]
  },
  {
   "cell_type": "markdown",
   "metadata": {},
   "source": [
    "![image](./fig/hw1-问题1-answer.jpg)"
   ]
  },
  {
   "cell_type": "markdown",
   "metadata": {},
   "source": [
    "![image](./fig/hw1-问题1-answer.png)"
   ]
  },
  {
   "cell_type": "markdown",
   "metadata": {},
   "source": [
    "can refer a handwritten picture, pleas upload the picture in /fig/xxx.png\n",
    "answer:\n"
   ]
  },
  {
   "cell_type": "markdown",
   "metadata": {},
   "source": [
    "## 问题 2：\n",
    "\n",
    "假设有函数 $f$ 和 $g$ 使得 $f(n)$ = $O(g(n))$ 对于下面的每一个陈述, 请判断对错, 如果正确请给出证明, 否则请给出一个反例。\n",
    "\n",
    "1. $\\log{f(n)}$ = $O(\\log(1+g(n)))$\n",
    "2. $3^{f(n)}=O(3^{g(n)})$\n",
    "3. $(f(n))^2=O((g(n))^2)$ "
   ]
  },
  {
   "cell_type": "markdown",
   "metadata": {},
   "source": [
    "见fig文件中的   hw1-问题2-answer.png"
   ]
  },
  {
   "cell_type": "markdown",
   "metadata": {},
   "source": [
    "![image](./fig/hw1-问题2-answer.png)"
   ]
  },
  {
   "cell_type": "markdown",
   "metadata": {},
   "source": [
    "you can refer a handwritten picture, pleas upload the picture in /fig/xxx.png\n",
    "answer:"
   ]
  },
  {
   "cell_type": "markdown",
   "metadata": {},
   "source": [
    "## 问题 3\n",
    "\n",
    "根据下列递归公式, 计算下列 $T(n)$ 对应的的渐近上界。要求所求的边界尽可能的紧（tight）, 请写明步骤。\n",
    "\n",
    "1. $T(1)=1; T(n)=T(n/4)+1$ for $n>1$\n",
    "2. $T(1)=1;T(n)=3T(n/3)+n^2$ for $n>1$\n",
    "3. $T(1)=1;T(n)=T(2n/3)+1$ for $n>1$\n",
    "4. $T(1)=1;T(n)=5T(n/4)+n$ for $n>1$\n",
    "5. $T(n)=1 \\ for\\ n \\le 2 ; T(n)=T(\\sqrt{n})+1 \\ for \\ n>2$"
   ]
  },
  {
   "cell_type": "markdown",
   "metadata": {},
   "source": [
    "见fig文件中的  hw1-问题3-answer1.jpg    hw1-问题3-answer2.png"
   ]
  },
  {
   "cell_type": "markdown",
   "metadata": {},
   "source": [
    "![image](./fig/hw1-问题3-answer1.jpg)"
   ]
  },
  {
   "cell_type": "markdown",
   "metadata": {},
   "source": [
    "![image](./fig/hw1-问题3-answer2.jpg)"
   ]
  },
  {
   "cell_type": "markdown",
   "metadata": {},
   "source": [
    "can refer a handwritten picture, pleas upload the picture in /fig/xxx.png\n",
    "answer:"
   ]
  },
  {
   "cell_type": "markdown",
   "metadata": {},
   "source": [
    "## 问题 4：\n",
    "\n",
    "给定一个包含n个元素的数组 `profits` , 它的第 `i` 个元素 `profits[i]` 表示一支股票第 `i` 天的**收益**（正数表示涨, 负数表示跌）。你只能选择 **某一天** 买入这只股票, 并选择在 **未来的某一个不同的日子** 卖出该股票。\n",
    "\n",
    "1. 设计一个算法来计算你所能获取的最大利润和对应买入和卖出的日期。请分析算法方案, 计算其时间复杂度, 并且使用python编程实现该算法。\n",
    "\n",
    "2. \\* 设计一个时间复杂度为 $O(n)$的算法实现该算法\n",
    "\n",
    "e.g. :\n",
    "---\n",
    "profits=[3,2,1,-7,5,2,-1,3,-1], 第5天买入, 第8天卖出, 收益最大：9\n",
    "\n"
   ]
  },
  {
   "cell_type": "markdown",
   "metadata": {},
   "source": [
    "1.算法方案：可以把股票每天的涨跌看成一个数字序列，正数代表涨，负数代表跌。如果我们在某一天买入，然后在未来某一天卖出，那中间这段时间的总收益，其实就是这个序列中某一段连续数字的和。所以这个问题就变成了：在整个序列里找出和最大的那一段。只要找到这一段，记录下它开始的位置（买入的那天）和结束的位置（卖出的前一天），我们就知道什么时候买入、什么时候卖出，才能赚最多的钱。\n",
    "时间复杂度：只使用一个for循环实现，时间复杂度为O(n）"
   ]
  },
  {
   "cell_type": "code",
   "execution_count": 4,
   "metadata": {},
   "outputs": [
    {
     "name": "stdout",
     "output_type": "stream",
     "text": [
      "9\n"
     ]
    }
   ],
   "source": [
    "def max_profit(profits):\n",
    "    # 初始化最大利润为负无穷，表示尚未找到任何利润\n",
    "    max_profit = float('-inf')\n",
    "    # 当前区间累计收益\n",
    "    cur_sum = 0\n",
    "    # 最佳买入和卖出日\n",
    "    buy_day = 0\n",
    "    sell_day = 0\n",
    "    # 当前尝试买入的日期（候选）\n",
    "    temp_buy = 0\n",
    "\n",
    "    # 从第1天开始遍历（因为第0天之后才能卖出）\n",
    "    for i in range(1, len(profits)):\n",
    "        # 累加从买入日以来的收益\n",
    "        cur_sum += profits[i]\n",
    "        \n",
    "        # 如果当前累计收益超过历史最大值，更新最大利润和买卖日期\n",
    "        if cur_sum > max_profit:\n",
    "            max_profit = cur_sum\n",
    "            buy_day = temp_buy      # 最佳买入日\n",
    "            sell_day = i            # 最佳卖出日在第 i+1 天\n",
    "\n",
    "        # 如果当前累计收益为负，说明从当前买入不如重新开始\n",
    "        if cur_sum < 0:\n",
    "            cur_sum = 0\n",
    "            temp_buy = i + 1        # 下一天作为新的买入候选日\n",
    "\n",
    "    # 返回最大利润、买入日、卖出日（注意 sell_day + 1 才是真正的卖出日）\n",
    "    return max_profit, buy_day, sell_day + 1\n",
    "\n",
    "profits=[3,2,1,-7,5,2,-1,3,-1]\n",
    "max_profit1,_,_ = max_profit(profits)\n",
    "print(max_profit1)\n",
    "\n"
   ]
  },
  {
   "cell_type": "markdown",
   "metadata": {},
   "source": [
    "## 问题 5：\n",
    "\n",
    "观察下方的分治算法（divide-and-conquer algorithm）的伪代码, 回答下面问题\n",
    "\n",
    "```latex\n",
    "DoSomething(A,p,r)\n",
    "-----\n",
    "n := r-p+1\n",
    "if n=2 and A[p]>A[r] then\n",
    "    swap A[p] and A[r]\n",
    "else if n >= 3 then\n",
    "    m = ceil(2n/3)\n",
    "    DoSomething(A,p,p+m-1)\n",
    "    DoSomething(A,r-m+1,r)\n",
    "    DoSomething(A,p,p+m-1)  \n",
    "    \n",
    "---\n",
    "first call: DoSomething(A,1,n)\n",
    "```\n",
    "\n",
    "note：$ceil(2n/3)=\\left\\lceil {2n/3} \\right\\rceil$；$:=$ 表示赋值, 等价于 $\\to$；A是一个包含n的整数元素的数组, \n",
    "\n",
    "1. 写出该算法时间复杂度的递归公式, 并求解其对应的渐进表示\n",
    "2. 描述一下该算法的功能, 并判断是否是最高效的解决方案\n",
    "3. 使用python编程实现上述算法或其对应的更高效版本的算法\n"
   ]
  },
  {
   "cell_type": "markdown",
   "metadata": {},
   "source": [
    "idea："
   ]
  },
  {
   "cell_type": "markdown",
   "metadata": {},
   "source": [
    "1.该分治算法每次递归将数组的前 $2n/3$ 和后 $2n/3$ 两部分分别排序，并再次对前 $2n/3$ 进行排序，因此总共进行三次递归，子问题规模为 $2n/3$。这导致时间复杂度的递归式为 $T(n) = 3T(2n/3) + O(1)$。根据主定理的分析方法，这个递归式的解为 $T(n) = \\Theta(n^{\\log_{3/2}3}) \\approx \\Theta(n^{2.71})$。\n"
   ]
  },
  {
   "cell_type": "markdown",
   "metadata": {},
   "source": [
    "2.该算法通过对数组的前 $2/3$ 和后 $2/3$ 部分递归排序，并再对前 $2/3$ 排序来确保整体有序。尽管这种方法在理论上可以完成排序任务，但由于其时间复杂度高达 $\\Theta(n^{2.71})$，比常见的排序算法如归并排序（$O(n \\log n)$）和快速排序（期望 $O(n \\log n)$）都低效得多，"
   ]
  },
  {
   "cell_type": "markdown",
   "metadata": {},
   "source": [
    "answer:"
   ]
  },
  {
   "cell_type": "code",
   "execution_count": 5,
   "metadata": {},
   "outputs": [
    {
     "name": "stdout",
     "output_type": "stream",
     "text": [
      "[1, 2, 3, 4, 5]\n"
     ]
    }
   ],
   "source": [
    "def merge_sort(A):\n",
    "    # 如果列表长度小于等于 1，则已经是有序的，直接返回\n",
    "    if len(A) <= 1:\n",
    "        return A\n",
    "\n",
    "    # 将列表分成左右两半\n",
    "    mid = len(A) // 2\n",
    "    L = merge_sort(A[:mid])     # 递归对左半部分排序\n",
    "    R = merge_sort(A[mid:])     # 递归对右半部分排序\n",
    "\n",
    "    # 合并两个有序子列表 L 和 R\n",
    "    i = j = 0                   # i 和 j 是指针，分别用于遍历 L 和 R\n",
    "    merged = []                # 用于存储合并后的结果\n",
    "\n",
    "    # 逐个比较 L 和 R 的当前元素，将较小的加入 merged 中\n",
    "    while i < len(L) and j < len(R):\n",
    "        if L[i] <= R[j]:\n",
    "            merged.append(L[i])  # L[i] 小于等于 R[j]，加入结果\n",
    "            i += 1               # 移动左侧指针\n",
    "        else:\n",
    "            merged.append(R[j])  # 否则加入 R[j]\n",
    "            j += 1               # 移动右侧指针\n",
    "\n",
    "    # 将 L 或 R 中剩下的元素加入 merged（因为此时另一边已耗尽）\n",
    "    merged.extend(L[i:])\n",
    "    merged.extend(R[j:])\n",
    "\n",
    "    # 返回合并后的有序列表\n",
    "    return merged\n",
    "\n",
    "A = [1, 5, 3, 2, 4]\n",
    "print(merge_sort(A))"
   ]
  },
  {
   "cell_type": "markdown",
   "metadata": {},
   "source": [
    "## 问题 6：\n",
    "\n",
    "给定一个大小为 `n` 的数组 `nums` , 返回其中的多数元素。多数元素是指在数组中出现次数 **大于** `⌊ n/2 ⌋` 的元素。\n",
    "\n",
    "你可以假设数组是非空的, 并且给定的数组总是存在多数元素。\n",
    "\n",
    "1. 设计一个算法找到给定数组的多数元素, 分析算法设计思路, 计算算法时间复杂度, 使用python编程实现\n",
    "2. \\* 设计时间复杂度为 O(n)、空间复杂度为 O(1) 的算法解决此问题, 分析算法设计思路, 使用python编程实现\n",
    "\n",
    "e.g.:\n",
    "---\n",
    "1. nums=[3,2,3], 返回3\n",
    "2. nums=[2,2,1,1,1,2,2], 返回2\n"
   ]
  },
  {
   "cell_type": "markdown",
   "metadata": {},
   "source": [
    "idea："
   ]
  },
  {
   "cell_type": "markdown",
   "metadata": {},
   "source": [
    "1在这个问题中，我们需要找到一个数组中的多数元素，即该元素出现的次数大于 $⌊ n/2 ⌋$。题目已经给定，数组中一定存在一个多数元素，因此我们可以利用这个信息设计一个高效的算法。\n",
    "\n",
    "一种非常有效的算法是 Boyer-Moore 投票算法，其核心思想是通过维护一个候选多数元素和一个计数器来确定最终的多数元素。首先，我们初始化一个候选多数元素 candidate 和一个计数器 count，其中 count 的初值为 0。然后，我们开始遍历数组中的每个元素。在遍历过程中，如果 count 为 0，这表示当前没有有效的候选元素，因此我们将当前元素设置为新的候选元素 candidate，并将 count 置为 1。如果当前元素等于 candidate，那么我们就增加 count，表示该元素继续支持当前的候选元素；如果当前元素不等于 candidate，则表示该元素削弱了当前候选元素的支持度，因此我们将 count 减少 1。通过这种方式，最终在遍历结束时，candidate 就是数组中的多数元素。\n",
    "\n",
    "由于该算法只需要对数组进行一次遍历，因此时间复杂度为 $O(n)$，而且只使用了常数空间来存储 candidate 和 count，因此空间复杂度为 $O(1)$。"
   ]
  },
  {
   "cell_type": "code",
   "execution_count": 6,
   "metadata": {},
   "outputs": [
    {
     "name": "stdout",
     "output_type": "stream",
     "text": [
      "3\n"
     ]
    }
   ],
   "source": [
    "def majority_element(nums):\n",
    "    candidate = None\n",
    "    count = 0\n",
    "    \n",
    "    # 遍历数组，找到候选多数元素\n",
    "    for num in nums:\n",
    "        if count == 0:\n",
    "            candidate = num\n",
    "        count += (1 if num == candidate else -1)\n",
    "    \n",
    "    return candidate\n",
    "\n",
    "nums  = [3,2,3]\n",
    "print(majority_element(nums))\n"
   ]
  },
  {
   "cell_type": "markdown",
   "metadata": {},
   "source": [
    "## 问题 7：\n",
    "\n",
    "给定一个包含不同整数元素的数组 $ A[1..n]$ ,并且满足条件：$A[1]>A[2]$ 并且 $A[n-1]<A[n]$; 规定：如果一个元素比它两边的邻居元素都小, 即：$A[x]<A[x-1], A[x]<A[x+1]$ , 称这个元素A[x]为“局部最小”。通过遍历一次数组, 我们可以很容易在 $O(n)$的时间复杂度下找到一个局部最小值, \n",
    "\n",
    "\n",
    "1. 分析该问题, 设计一个算法在$O(logn)$的时间复杂度下找到一个局部最小(返回数值), 要求：分析算法设计思路, 并且使用python编程实现\n",
    "2. \\* 设计算法找出所有局部最小值, 分析算法设计思路, 并使用python编程实现\n",
    "\n",
    "e.g.:\n",
    "---\n",
    "A=[9, 3, 7, 2, 1, 4, 5 ] 时,  局部最小元素为 3, 1\n"
   ]
  },
  {
   "cell_type": "markdown",
   "metadata": {},
   "source": [
    "idea："
   ]
  },
  {
   "cell_type": "markdown",
   "metadata": {},
   "source": [
    "1.在这个问题中，我们需要在 $O(\\log n)$ 的时间复杂度下找到一个局部最小值。给定的数组 $A$ 满足以下条件：$A[1] > A[2]$ 且 $A[n-1] < A[n]$。我们可以利用二分查找的思路来设计一个高效的算法。首先，局部最小值有一些特殊的性质：如果一个元素是局部最小值，那么它两边的邻居元素都大于它；如果一个元素不是局部最小值，那么它的左侧或右侧必定存在一个局部最小值。基于这些性质，我们可以用二分查找的方式高效地找到局部最小值。\n",
    "\n",
    "具体设计思路是，首先选择数组的中间元素 $A[m]$，然后判断它是否为局部最小值。若 $A[m]$ 小于它的两个邻居元素，即 $A[m] < A[m-1]$ 且 $A[m] < A[m+1]$，那么 $A[m]$ 就是局部最小值，返回它。如果 $A[m]$ 大于其左邻居 $A[m-1]$，则说明左侧可能存在一个局部最小值，我们就可以在 $[1, m-1]$ 区间继续查找。如果 $A[m]$ 大于其右邻居 $A[m+1]$，则说明右侧可能存在一个局部最小值，我们就可以在 $[m+1, n]$ 区间继续查找。通过这样的方式，我们每次都能够排除掉一半的元素，保证算法的时间复杂度为 $O(\\log n)$。"
   ]
  },
  {
   "cell_type": "code",
   "execution_count": 7,
   "metadata": {},
   "outputs": [
    {
     "name": "stdout",
     "output_type": "stream",
     "text": [
      "1\n"
     ]
    }
   ],
   "source": [
    "def find_local_minimum(A):\n",
    "    def helper(A, low, high):\n",
    "        if low == high:\n",
    "            return A[low]\n",
    "        \n",
    "        mid = (low + high) // 2\n",
    "        \n",
    "        # Check if A[mid] is a local minimum\n",
    "        if (mid == 0 or A[mid] < A[mid - 1]) and (mid == len(A) - 1 or A[mid] < A[mid + 1]):\n",
    "            return A[mid]\n",
    "        \n",
    "        # If the left neighbor is smaller, search on the left half\n",
    "        elif mid > 0 and A[mid] > A[mid - 1]:\n",
    "            return helper(A, low, mid - 1)\n",
    "        \n",
    "        # If the right neighbor is smaller, search on the right half\n",
    "        else:\n",
    "            return helper(A, mid + 1, high)\n",
    "    \n",
    "    return helper(A, 0, len(A) - 1)\n",
    "\n",
    "A=[9, 3, 7, 2, 1, 4, 5 ]\n",
    "print(find_local_minimum(A))"
   ]
  },
  {
   "cell_type": "markdown",
   "metadata": {},
   "source": [
    "idea:"
   ]
  },
  {
   "cell_type": "code",
   "execution_count": null,
   "metadata": {},
   "outputs": [],
   "source": [
    "# add your code here\n",
    "# your algorithm time complexity is :"
   ]
  },
  {
   "cell_type": "markdown",
   "metadata": {},
   "source": [
    "## 问题 8：\n",
    "\n",
    "给定包含n个不同数字的一组数, 寻找一种基于比较的算法在这组数中找到k个最小的数字, 并按顺序输出它们。\n",
    "\n",
    "1. 将n个数先进行排序, 然后按顺序输出最小的k个数。要求：选择合适的排序算法实现上述操作, 计算算法时间复杂度, 并使用python编程实现。\n",
    "2. 建立一个包含这n个数的堆（heap）, 并且调用 k 次Extract-min 按顺序输出最小的k个数。使用往空堆中不断插入元素的方法建立堆, 分析这种方法建堆的时间复杂度, 并使用python编程实现\n",
    "3. \\* 假设数组中包含的数据总数目超过了计算机的存储能力, 请设计一个算法, 找到这堆数据的前k小的数值, 计算时间复杂度, 并使用python实现该算法, 假设计算机一定能存储k个数据。\n",
    "\n",
    "e.g.：\n",
    "---\n",
    "数组arr=[5,4,3,2,6,1,88,33,22,107] 的前3个最小数据为：1, 2, 3\n"
   ]
  },
  {
   "cell_type": "markdown",
   "metadata": {},
   "source": [
    "idea："
   ]
  },
  {
   "cell_type": "markdown",
   "metadata": {},
   "source": [
    "1.对 n 个数进行排序，时间复杂度为 $O(n \\log n)$；从排序后的数组中选择前 k 个数，直接输出，时间复杂度为 $O(k)$；因此总时间复杂度为 $O(n \\log n + k)$。"
   ]
  },
  {
   "cell_type": "markdown",
   "metadata": {},
   "source": [
    "2.首先将所有 n 个元素插入堆中。对于每次插入堆的操作，时间复杂度为 $O(\\log n)$。插入 n 个元素的总时间复杂度为 $O(n \\log n)$；每次从堆中提取最小元素（即 root 元素），时间复杂度为 $O(\\log n)$。总共提取 k 次，时间复杂度为 $O(k \\log n)$。因此，总时间复杂度为 $O(n \\log n + k \\log n) = O(n \\log n)$。"
   ]
  },
  {
   "cell_type": "code",
   "execution_count": 8,
   "metadata": {},
   "outputs": [
    {
     "name": "stdout",
     "output_type": "stream",
     "text": [
      "[1, 2, 3]\n"
     ]
    }
   ],
   "source": [
    "def find_k_smallest_by_sort(arr, k):\n",
    "    # 使用归并排序进行排序\n",
    "    arr.sort()  # Python 的内置排序算法为 Timsort，时间复杂度为 O(n log n)\n",
    "    return arr[:k]  # 返回前 k 个最小的数\n",
    "\n",
    "arr=[5,4,3,2,6,1,88,33,22,107]\n",
    "k=3\n",
    "print(find_k_smallest_by_sort(arr, k))"
   ]
  },
  {
   "cell_type": "code",
   "execution_count": 9,
   "metadata": {},
   "outputs": [
    {
     "name": "stdout",
     "output_type": "stream",
     "text": [
      "The 3 smallest numbers are: [1, 2, 3]\n",
      "[1, 2, 3]\n"
     ]
    }
   ],
   "source": [
    "import heapq\n",
    "\n",
    "def find_k_smallest_by_heap(arr, k):\n",
    "    # 将数组转为最小堆\n",
    "    heapq.heapify(arr)  # 时间复杂度 O(n)\n",
    "    \n",
    "    # 提取 k 次最小元素\n",
    "    smallest_k = [heapq.heappop(arr) for _ in range(k)]  # 每次提取时间复杂度 O(log n)\n",
    "    return smallest_k\n",
    "\n",
    "# 测试\n",
    "arr = [10, 4, 5, 8, 2, 7, 1, 3, 9, 6]\n",
    "k = 3\n",
    "result = find_k_smallest_by_heap(arr, k)\n",
    "print(f\"The {k} smallest numbers are: {result}\")\n",
    "\n",
    "arr=[5,4,3,2,6,1,88,33,22,107]\n",
    "k=3\n",
    "print(find_k_smallest_by_sort(arr, k))\n"
   ]
  },
  {
   "cell_type": "markdown",
   "metadata": {},
   "source": [
    "## 问题 9：\n",
    "\n",
    "**选择问题**:给定一个包含n个未排序值的数组A和一个$k≤n$的整数, 返回A中最小的第k项。\n",
    "\n",
    "在课堂上, 学了一个简单的O(n)随机算法来解决选择问题。事实上还有一种更复杂的最坏情况下时间复杂度为$O(n)$ 的选择算法。假设使用一个黑盒过程来实现这个O(n)选择算法: 给定一个数组A、 $p < r$ 和 k,  $BB(A, p, r, k)$ 可以在$O(r−p+ 1)$时间内找到并报告$A[p..r]$中第k小的项的下标。假设你可以在线性时间内处理Partition过程。\n",
    "\n",
    "1. 请分析如何修改 Quicksork 算法可以使其最差情况下的运行时间为 $O(nlogn)$, 使用伪代码实现, 并分析为何修改后的版本最差情况的运行时间为$O(nlogn)$\n",
    "\n",
    "note: 伪代码中, 你可以直接调用用` BB(A,p,r,k)`这个函数用于表示在最坏情况下时间复杂度为$O(n)$的选择算法；\n",
    "\n",
    "\n",
    "\n",
    "2. 找到一个更好的算法报告数组A中的前k小的项, 使用伪代码表示你的算法, 并分析你算法的时间复杂度。\n",
    "\n",
    "举例：A=[13, 3, 7, 9, 11, 1, 15, 2, 8, 10, 12, 16, 14, 5], 当k=4时, 应该报告1, 2, 3, 4\n",
    "\n",
    "note： 最直观的方法就是先将数组A排序, 然后从左向右报告其前k项, 这样操作的时间复杂度为$O(nlogn)$. 调用用` BB(A,p,r,k)`设计一个算法使其报告无序数组A的前k项, 满足时间复杂度好于$\\Theta(nlogn)$, 并且当$k=\\sqrt{n}$时, 你设计的算法时间复杂度应该为$\\Theta(n)$.\n",
    "\n",
    "\n",
    "\n",
    "3. 给定一个大小为n的数组, 找到一个 时间复杂度为$O(n log k)$ 的算法, 该算法将A中的元素重新排序, 使它们被划分为k个部分, 每个部分的元素小于或等于下一部分的元素。假设n和k都是2的幂。使用伪代码表示你的算法, 并分析时间复杂度。\n",
    "\n",
    "e.g.:\n",
    "---\n",
    "数组：[1,  3,  5,  7,  9,  11,  13,  15,  2,  4,  6,  8,  10,  12,  16,  14], k=4, \n",
    "\n",
    "对应重新排序的数组为：[1,  3,  2,  4]  [7,  6,  5,  8]  [12,  11,  10,  9]  [13,  14,  16,  15]\n",
    "\n",
    "\n"
   ]
  },
  {
   "cell_type": "markdown",
   "metadata": {},
   "source": [
    "idea："
   ]
  },
  {
   "cell_type": "markdown",
   "metadata": {},
   "source": [
    "1.为了保证最坏情况下的时间复杂度为 $O(n \\log n)$，我们可以使用 Median of Medians 方法来选择 pivot（枢轴元素）。该方法通过将数组划分成若干个小组，并在每个小组内找到中位数，然后递归地选择这些中位数的中位数作为 pivot。这种方法保证了 pivot 的选择使得每次分割都尽量平衡，从而避免了 Quicksort 中最坏情况下退化为 $O(n^2)$ 的情况"
   ]
  },
  {
   "cell_type": "code",
   "execution_count": 18,
   "metadata": {},
   "outputs": [
    {
     "name": "stdout",
     "output_type": "stream",
     "text": [
      "排序后: [1, 2, 3, 4, 5, 6, 7, 8, 9, 10, 11, 12, 13, 14, 15, 16]\n"
     ]
    }
   ],
   "source": [
    "def sort(A, left, right):\n",
    "    A[left:right+1] = sorted(A[left:right+1])\n",
    "\n",
    "def Partition(A, p, r, pivot=None):\n",
    "    if pivot is not None:\n",
    "        for i in range(p, r + 1):\n",
    "            if A[i] == pivot:\n",
    "                pivot_index = i\n",
    "                break\n",
    "        else:\n",
    "            raise ValueError(f\"Pivot {pivot} not found in A[{p}:{r}]\")\n",
    "\n",
    "        A[pivot_index], A[r] = A[r], A[pivot_index]\n",
    "\n",
    "    x = A[r]\n",
    "    i = p - 1\n",
    "    for j in range(p, r):\n",
    "        if A[j] <= x:\n",
    "            i += 1\n",
    "            A[i], A[j] = A[j], A[i]\n",
    "    A[i + 1], A[r] = A[r], A[i + 1]\n",
    "    return i + 1\n",
    "\n",
    "def MedianOfMedians(A, p, r):\n",
    "    n = r - p + 1\n",
    "    if n <= 5:\n",
    "        sort(A, p, r)\n",
    "        return A[(p + r) // 2]\n",
    "    \n",
    "    # 每组排序并提取中位数\n",
    "    medians = []\n",
    "    for i in range(p, r + 1, 5):\n",
    "        sub_right = min(i + 4, r)\n",
    "        sort(A, i, sub_right)\n",
    "        median = A[(i + sub_right) // 2]\n",
    "        medians.append(median)\n",
    "\n",
    "    # 递归找中位数的中位数\n",
    "    return MedianOfMedians(medians, 0, len(medians) - 1)\n",
    "\n",
    "def Quicksort(A, p, r):\n",
    "    if p < r:\n",
    "        pivot = MedianOfMedians(A, p, r)\n",
    "        q = Partition(A, p, r, pivot)\n",
    "        Quicksort(A, p, q - 1)\n",
    "        Quicksort(A, q + 1, r)\n",
    "\n",
    "# 测试\n",
    "A = [1, 3, 5, 7, 9, 11, 13, 15, 2, 4, 6, 8, 10, 12, 16, 14]\n",
    "Quicksort(A, 0, len(A) - 1)\n",
    "print(\"排序后:\", A)\n"
   ]
  },
  {
   "cell_type": "markdown",
   "metadata": {},
   "source": [
    "2.为了找到前 k 个最小的元素，我们可以使用 Quickselect 算法。Quickselect 是基于 Quicksort 的变种，它仅在一个分区中继续递归，从而避免了对整个数组的排序。Quickselect 通过每次选择一个 pivot 元素，并将其与其他元素比较，然后决定哪个部分继续递归，直到找到第 k 小的元素。一旦我们找到第 k 小的元素，我们可以通过另一种方法将小于该元素的所有元素收集起来，从而得到前 k 小的元素。"
   ]
  },
  {
   "cell_type": "code",
   "execution_count": 19,
   "metadata": {},
   "outputs": [
    {
     "name": "stdout",
     "output_type": "stream",
     "text": [
      "[1, 3, 2, 4]\n"
     ]
    }
   ],
   "source": [
    "def Quickselect(A, p, r, k):\n",
    "    \"\"\"\n",
    "    使用 Quickselect 查找 A[p..r] 中的第 k 小元素\n",
    "    \"\"\"\n",
    "    if p == r:\n",
    "        return A[p]\n",
    "    \n",
    "    pivot = MedianOfMedians(A, p, r)  # 选择 pivot\n",
    "    q = Partition(A, p, r, pivot)\n",
    "    \n",
    "    # 如果 k == q, 则 pivot 是第 k 小的元素\n",
    "    if k == q:\n",
    "        return A[k]\n",
    "    elif k < q:\n",
    "        return Quickselect(A, p, q - 1, k)\n",
    "    else:\n",
    "        return Quickselect(A, q + 1, r, k)\n",
    "\n",
    "def find_k_smallest(A, k):\n",
    "    \"\"\"\n",
    "    使用 Quickselect 找到前 k 小的元素\n",
    "    \"\"\"\n",
    "    Quickselect(A, 0, len(A) - 1, k)\n",
    "    return A[:k]\n",
    "\n",
    "A = [1, 3, 5, 7, 9, 11, 13, 15, 2, 4, 6, 8, 10, 12, 16, 14]\n",
    "k=4\n",
    "print(find_k_smallest(A, k))"
   ]
  },
  {
   "cell_type": "markdown",
   "metadata": {},
   "source": [
    "3.通过 多路归并（类似于归并排序的过程）来将数组分成 k 个部分，然后对这 k 个部分进行排序，最后将排序后的 k 个部分进行合并，得到一个排序后的数组。"
   ]
  },
  {
   "cell_type": "code",
   "execution_count": 22,
   "metadata": {},
   "outputs": [
    {
     "name": "stdout",
     "output_type": "stream",
     "text": [
      "第 1 部分: [1, 3, 5, 7]\n",
      "第 2 部分: [9, 11, 13, 15]\n",
      "第 3 部分: [2, 4, 6, 8]\n",
      "第 4 部分: [10, 12, 14, 16]\n"
     ]
    }
   ],
   "source": [
    "def k_way_partition(A, k):\n",
    "    \"\"\"\n",
    "    将数组 A 划分为 k 个部分，每部分内部排序，并整体有序。\n",
    "    \"\"\"\n",
    "    n = len(A)\n",
    "    part_size = n // k\n",
    "    result = []\n",
    "\n",
    "    for i in range(k):\n",
    "        start = i * part_size\n",
    "        end = (i + 1) * part_size if i != k - 1 else n\n",
    "        part = sorted(A[start:end])\n",
    "        result.extend(part)\n",
    "    \n",
    "    return result\n",
    "\n",
    "\n",
    "\n",
    "A = [1, 3, 5, 7, 9, 11, 13, 15, 2, 4, 6, 8, 10, 12, 16, 14]\n",
    "k=4\n",
    "result = k_way_partition(A, k)\n",
    "# 显示划分结果（可视化为 k 段）\n",
    "chunk_size = len(result) // k\n",
    "for i in range(k):\n",
    "    part = result[i * chunk_size : (i + 1) * chunk_size] if i < k - 1 else result[i * chunk_size :]\n",
    "    print(f\"第 {i+1} 部分:\", part)\n"
   ]
  },
  {
   "cell_type": "markdown",
   "metadata": {},
   "source": [
    "## 问题 10：\n",
    "\n",
    "给定一个包含m个**字符串**的数组A, 其中不同的字符串可能有不同的字符数, 但数组中所有字符串的字符总数为n。设计一个算法在 $O(n)$ 时间内对字符串进行排序, 分析算法设计方案, 计算其时间复杂度, 并基于python编程实现该算法。请注意, 假设字符串只包含\"a\",\"b\",...,\"z\", \n",
    "\n",
    "\n",
    "\n",
    "举例1：数组A=[\"a\", \"da\", \"bde\", \"ab\", \"bc\", \"abdc\", \"cdba\"], 排序后的数组应该为：['a', 'ab', 'abdc', 'bc', 'bde', 'cdba', 'da']\n",
    "\n",
    "\n",
    "\n",
    "举例2：数组A=['ab', 'a', 'b', 'abc', 'ba', 'c'], 排序后的数组应该为：\n",
    "\n",
    "['a', 'ab', 'abc', 'b', 'ba', 'c']\n",
    "\n",
    "\n",
    "\n",
    "举例3：数组A=['aef', 'yzr', 'wr', 'ab', 'bhjc', 'lkabdc', 'pwcdba'],  排序后的数组应该为：['ab', 'aef', 'bhjc', 'lkabdc', 'pwcdba', 'wr', 'yzr']\n",
    "\n",
    "\n",
    "\n",
    "note：\n",
    "\n",
    "-  两个字符之间的比较可以考虑比较他们对应的ASCII码值；\n",
    "- python中可以使用`ord(\"a\")`返回字符 “a”对应的ASCII值"
   ]
  },
  {
   "cell_type": "markdown",
   "metadata": {},
   "source": [
    "idea:"
   ]
  },
  {
   "cell_type": "markdown",
   "metadata": {},
   "source": [
    "对于这个问题，目标是 按字典序 对字符串数组进行排序，而每个字符串的字符总数是 $n$，而数组中有 $m$ 个字符串。我们可以通过 基数排序（Radix Sort）来实现这个目标，基数排序是一种不基于比较的排序方法，适用于按字符的顺序排序字符串，能够在 $O(n)$ 时间内完成。我们从字符串的最低位开始，逐位对所有字符串进行排序。对于每个字符位置，我们将所有字符串按照该位置的字符排序，排序时根据字符的 ASCII 值，由于字符集合大小是固定的（只有26个字母），我们可以使用 计数排序 来对每一位进行排序，计数排序的时间复杂度是 $O(k)$，其中 $k$ 是排序位数，按字符从最低位到最高位进行多次排序，时间复杂度是 $O(nk)$。"
   ]
  },
  {
   "cell_type": "code",
   "execution_count": 25,
   "metadata": {},
   "outputs": [
    {
     "name": "stdout",
     "output_type": "stream",
     "text": [
      "['abc', 'ab', 'a', 'ba', 'b', 'c']\n"
     ]
    }
   ],
   "source": [
    "def counting_sort(A, index, max_length):\n",
    "    \"\"\"\n",
    "    基于指定位置字符的ASCII值，使用计数排序对数组A进行排序\n",
    "    index：当前排序的字符位置\n",
    "    max_length：字符串的最大长度\n",
    "    \"\"\"\n",
    "    count = [0] * 27  # 26个字母 + 1个占位符（代表空位）\n",
    "    output = [\"\" for _ in range(len(A))]\n",
    "\n",
    "    # 统计每个字符的出现次数\n",
    "    for string in A:\n",
    "        char_pos = ord(string[index]) - ord('a') if index < len(string) else -1\n",
    "        if char_pos == -1:\n",
    "            count[26] += 1\n",
    "        else:\n",
    "            count[char_pos] += 1\n",
    "\n",
    "    # 累加计数器，确定每个字符在输出中的位置\n",
    "    for i in range(1, 27):\n",
    "        count[i] += count[i - 1]\n",
    "\n",
    "    # 从后向前排序，保持稳定性\n",
    "    for string in reversed(A):\n",
    "        char_pos = ord(string[index]) - ord('a') if index < len(string) else -1\n",
    "        if char_pos == -1:\n",
    "            output[count[26] - 1] = string\n",
    "            count[26] -= 1\n",
    "        else:\n",
    "            output[count[char_pos] - 1] = string\n",
    "            count[char_pos] -= 1\n",
    "\n",
    "    return output\n",
    "\n",
    "def radix_sort(A):\n",
    "    \"\"\"\n",
    "    使用基数排序对字符串数组A进行排序\n",
    "    \"\"\"\n",
    "    if not A:\n",
    "        return A\n",
    "    max_length = max(len(s) for s in A)\n",
    "    for i in range(max_length - 1, -1, -1):\n",
    "        A = counting_sort(A, i, max_length)\n",
    "    return A\n",
    "\n",
    "# 测试\n",
    "A = ['ab', 'a', 'b', 'abc', 'ba', 'c']\n",
    "print(radix_sort(A))\n",
    "\n"
   ]
  }
 ],
 "metadata": {
  "kernelspec": {
   "display_name": "Alpaca",
   "language": "python",
   "name": "python3"
  },
  "language_info": {
   "codemirror_mode": {
    "name": "ipython",
    "version": 3
   },
   "file_extension": ".py",
   "mimetype": "text/x-python",
   "name": "python",
   "nbconvert_exporter": "python",
   "pygments_lexer": "ipython3",
   "version": "3.10.15"
  }
 },
 "nbformat": 4,
 "nbformat_minor": 2
}
